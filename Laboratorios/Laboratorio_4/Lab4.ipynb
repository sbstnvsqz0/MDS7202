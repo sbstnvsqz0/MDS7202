{
  "nbformat": 4,
  "nbformat_minor": 0,
  "metadata": {
    "colab": {
      "provenance": []
    },
    "kernelspec": {
      "name": "python3",
      "display_name": "Python 3"
    },
    "language_info": {
      "name": "python"
    }
  },
  "cells": [
    {
      "cell_type": "markdown",
      "metadata": {
        "id": "XUZ1dFPHzAHl",
        "cell_id": "e37cb69cb73a49c2ad07cf670e073cb7",
        "deepnote_cell_height": 156.390625,
        "deepnote_cell_type": "markdown"
      },
      "source": [
        "# Laboratorio 4: Spark y EDA 🐼\n",
        "\n",
        "<center><strong>MDS7202: Laboratorio de Programación Científica para Ciencia de Datos</strong></center>"
      ]
    },
    {
      "cell_type": "markdown",
      "source": [
        "### Cuerpo Docente:\n",
        "\n",
        "- Profesores: Ignacio Meza, Sebastián Tinoco\n",
        "- Auxiliar: Catherine Benavides\n",
        "- Ayudante: Nicolás Ojeda, Eduardo Moya"
      ],
      "metadata": {
        "id": "PkEUN6c8S-E_"
      }
    },
    {
      "cell_type": "markdown",
      "metadata": {
        "id": "tXflExjqzAHr",
        "cell_id": "8ebcb0f2f70c43319279fdd28c13fe89",
        "deepnote_cell_height": 171.796875,
        "deepnote_cell_type": "markdown"
      },
      "source": [
        "### Equipo: SUPER IMPORTANTE - notebooks sin nombre no serán revisados\n",
        "\n",
        "- Nombre de alumno 1: Benjamín Aguilar.\n",
        "- Nombre de alumno 2: Sebastián Vásquez.\n"
      ]
    },
    {
      "cell_type": "markdown",
      "metadata": {
        "id": "AD-V0bbZzAHr",
        "cell_id": "290822720f3e4484b09e762655bcdb76",
        "deepnote_cell_height": 62,
        "deepnote_cell_type": "markdown"
      },
      "source": [
        "### **Link de repositorio de GitHub:** `https://github.com/sbstnvsqz0/MDS7202`"
      ]
    },
    {
      "cell_type": "markdown",
      "metadata": {
        "tags": [],
        "deepnote_cell_height": 216,
        "cell_id": "60255b81ff0349ad9b18f598a8d71386",
        "deepnote_cell_type": "markdown",
        "id": "hnYD2hBMAwXf"
      },
      "source": [
        "### Reglas:\n",
        "\n",
        "- **Grupos de 2 personas**\n",
        "- Fecha de entrega: 7 días desde la publicación, 3 días de atraso con 1 punto de descuento c/u.\n",
        "- Instrucciones del lab el viernes a las 16:15 en formato online. Asistencia no es obligatoria.\n",
        "- <u>Prohibidas las copias</u>. Cualquier intento de copia será debidamente penalizado con el reglamento de la escuela.\n",
        "- Tienen que subir el laboratorio a u-cursos Y a su repositorio de github. Labs que no estén en u-cursos no serán revisados. Recuerden que el repositorio también tiene nota.\n",
        "- Cualquier duda fuera del horario de clases al foro. Mensajes al equipo docente serán respondidos por este medio.\n",
        "- Pueden usar cualquer material del curso que estimen conveniente."
      ]
    },
    {
      "cell_type": "markdown",
      "metadata": {
        "tags": [],
        "cell_id": "5bf6f5f66dcd4da9a6926774cec108ab",
        "deepnote_cell_height": 114.390625,
        "deepnote_cell_type": "markdown",
        "id": "xzz695obAwXg"
      },
      "source": [
        "### Temas a tratar\n",
        "\n",
        "- Introducción al manejo de datos tabulares por medio de la libreria `pandas`."
      ]
    },
    {
      "cell_type": "markdown",
      "metadata": {
        "id": "6uBLPj1PzAHs",
        "cell_id": "50ec30f08f2548a29bc979ed1741f5a0",
        "deepnote_cell_height": 243.390625,
        "deepnote_cell_type": "markdown"
      },
      "source": [
        "### Objetivos principales del laboratorio\n",
        "\n",
        "- Entender, aplicar y aprovechar las ventajas que nos ofrece la libreria `pyspark` para manejar datos tabulares de gran volúmen.\n",
        "- Crear gráficos para el desarrollo de Análisis de Datos Exploratorios (EDA)."
      ]
    },
    {
      "cell_type": "markdown",
      "source": [
        "### Datos del Lab\n",
        "\n",
        "- Base de datos: https://gitlab.com/imezadelajara/datos_clase_7_mds7202/-/raw/main/datos_lab_spark.parquet\n",
        "- Objeto serializado: https://gitlab.com/imezadelajara/datos_clase_7_mds7202/-/raw/main/object.pkl?inline=false"
      ],
      "metadata": {
        "id": "f7hHEyTgm12s"
      }
    },
    {
      "cell_type": "markdown",
      "source": [
        "## Preguntas Teóricas [12 puntos]\n",
        "(2 por pregunta)"
      ],
      "metadata": {
        "id": "6CrDdk5NRAKe"
      }
    },
    {
      "cell_type": "markdown",
      "source": [
        "<center>\n",
        "<img src=\"https://img.buzzfeed.com/buzzfeed-static/static/2018-08/1/17/enhanced/buzzfeed-prod-web-05/anigif_enhanced-9173-1533160033-1.gif\" width=350 />\n",
        "\n"
      ],
      "metadata": {
        "id": "EmDMGUTxLp7M"
      }
    },
    {
      "cell_type": "markdown",
      "source": [
        "Responda en  máximo 5 líneas las siguientes preguntas:\n",
        "1. ¿Qué es Apache Spark y cuáles son sus principales ventajas sobre Pandas?\n",
        "2. ¿Qué es un RDD en Spark? Describe una de sus principales características. ¿Qué tienen que ver con los dataframes?.\n",
        "3. Diferencia entre transformaciones y acciones en Spark. Proporciona ejemplos de cada una. ¿Qué ocurre internamente cuando se ejecuta una acción?\n",
        "4. Explica la importancia del particionamiento en Spark y cómo afecta el rendimiento del procesamiento de datos.\n",
        "5. ¿Cuáles son las funciones de Spark Driver y Spark Executor?\n",
        "6. ¿Qué es el Catalyst Optimizer en Apache Spark y cuál es su función principal en la optimización de consultas SQL?\n"
      ],
      "metadata": {
        "id": "pGZZcxMWRdIa"
      }
    },
    {
      "cell_type": "markdown",
      "source": [
        "**Respuestas**\n",
        "\n",
        "1. Este se trata de un motor unificado de analíticas para el procesamiento de datos a gran escala. Las ventajas sobre pandas son:\n",
        "- La gestión de memoria es más eficiente, esto ya que utiliza lazy evaluation, donde se planifican las operaciones, no ejecutandose al instante. Además pandas cuenta con inferencia automática de tipo de datos, lo cual puede traer problemas de memoria.\n",
        "- El desempeño con grandes volumenes de datos mejora, pues spark puede operarlos y ejecutar operaciones de forma paralela.\n",
        "- Soporte de computación paralela (pandas no tiene esta opción debido a su diseño).\n",
        "2. Son colecciones de elementos tolerantes a fallas y altamente escalables, que se pueden distribuir en un cluster para poder trabajar en paralelo. Una de sus principales características son las particiones, que son divisiones del conjunto de datos para ayudar al procesamiento, estas pueden tener tamaño variable y ayudan al paralelismo. Los dataframes son básicamente abstracciones más altas que los RDD con mejor interfaz y optimizaciones automáticas, pero ambos son colecciones de datos.\n",
        "3. Las acciones devuelven un valor tras ejecutarse sobre el conjunto de datos y ejecutan las transformaciones, en cambio la transformación crea un nuevo conjunto de datos a partir de otro RDD, sin embargo, solo se ejecutan luego de una acción. Ejemplos de acciones son show() para mostrar un RDD/df, count() para contar elementos, etc. Ejemplos de transformaciones son select() para seleccionar algunas columnas, o groupBy() para agrupar según cierta variable. Antes de ejecutar la acción se optimiza el plan de ejecución de las transformaciones acumuladas, luego paraleliza tareas y se devuelven resultados al controlador\n",
        "4. El particionamiento es importante para el rendimiento del procesamiento de datos, pues estas particiones se distribuyen entre los nodos de tal manera de poder hacer procesamientos en paralelo sobre un set de datos grande y así aumentar la eficiencia de las consultas.\n",
        "5. - El Spark Driver es el programa principal encargado de ejecutar el código (interactua con entorno del usuario) y ordenar las operaciones en los clusters. Este envía trabajo a executors y obtiene los resultados finales.\n",
        "  - El Spark Executor se encarga de el procesamiento de datos enviado por el driver en los clusters. Cada uno de estos ejecutan tareas en el trabajo distribuido.  \n",
        "6. Cataclyst Optimizer es un optimizador que aprovecha características de lenguaje de programación para construir un optimizador de consultas. Este contiene bibliotecas para el procesamiento de consultas relacionales. Cataclyst recibe una querie en un lenguaje de alto nivel y las transforma en transformaciones map-reduce."
      ],
      "metadata": {
        "id": "1elJgE8JRn2O"
      }
    },
    {
      "cell_type": "markdown",
      "metadata": {
        "cell_id": "00002-bf13ea5a-d8bf-4cee-879e-ba1c7035e657",
        "deepnote_cell_type": "markdown",
        "id": "b020ce37"
      },
      "source": [
        "## Parte Práctica\n",
        "\n"
      ]
    },
    {
      "cell_type": "markdown",
      "source": [
        "<center>\n",
        "<img src=\"https://pbs.twimg.com/ad_img/1285681293590749189/kDckYy6Z?format=png&name=900x900\" width=350 />"
      ],
      "metadata": {
        "id": "k0DaDvtgEYTV"
      }
    },
    {
      "cell_type": "markdown",
      "source": [
        "Juan Carlos Bodoque, el famoso periodista y empresario, decidió diversificar su portafolio de negocios y crear su propia plataforma de e-commerce. Después de varios años de investigar y analizar el mercado financiero, finalmente logró fundar Bodoque E-Shop con el objetivo de ofrecer a sus clientes una experiencia personalizada y confiable en sus transacciones.\n",
        "\n",
        "Sin embargo, con la llegada de los aliens al planeta Tierra, aparecen nuevos desafíos para el negocio. Por ello, Bodoque decide invertir en un equipo de expertos en tecnología y comercio interplanetario, para que Bodoque Shop implemente las últimas innovaciones en servicio al cliente para garantizar la satisfacción y fidelización de sus nuevos clientes.\n",
        "\n",
        "El primer objetivo de Bodoque E-Shop será la hacer un análisis exploratorio para entender mejor el comportamiento de los usuarios en la plataforma. Para ello Bodoque les hace entrega de un extenso dataset en el que se registran las actividades que han realizado sus clientes durante los últimos meses. A continuación se presenta un diccionario de variables que levanto el equipo de consultores interplanetarios de Bodoque:\n",
        "\n",
        "1. `Transaction ID`: A unique identifier for each transaction.\n",
        "2. `Customer ID`: A unique identifier for each customer.\n",
        "3. `Transaction Amount`: The total amount of money exchanged in the transaction in USD.\n",
        "4. `Transaction Date`: The date and time when the transaction took place.\n",
        "5. `Payment Method`: The method used to complete the transaction (e.g., credit card, PayPal, etc.).\n",
        "6. `Product Category`: The category of the product involved in the transaction.\n",
        "7. `Quantity`: The number of products involved in the transaction.\n",
        "8. `Customer Age`: The age of the customer making the transaction.\n",
        "9. `Customer Location`: The geographical location of the customer.\n",
        "10. `Device Used`: The type of device used to make the transaction (e.g., mobile, desktop).\n",
        "11. `IP Address`: The IP address of the device used for the transaction.\n",
        "Shipping Address: The address where the product was shipped.\n",
        "12. `Billing Address`: The address associated with the payment method.\n",
        "13. `Is An Alien`: A binary indicator of whether customer is an alien.\n",
        "14. `Account Age Days`: The age of the customer's account in days at the time of the transaction.\n",
        "15. `Transaction Hour`: The hour of the day when the transaction occurred.\n"
      ],
      "metadata": {
        "id": "uW1dg_5_WR8S"
      }
    },
    {
      "cell_type": "markdown",
      "metadata": {
        "id": "MhISwri4zAHy",
        "cell_id": "1769820f70244385ab5ac51f7509b6de",
        "deepnote_cell_height": 61.133331298828125,
        "deepnote_cell_type": "markdown"
      },
      "source": [
        "### Importamos librerias utiles y cargamos los datos😸"
      ]
    },
    {
      "cell_type": "code",
      "source": [
        "!pip install pyspark\n",
        "!apt-get install openjdk-8-jdk-headless -qq > /dev/null\n",
        "\n",
        "import os\n",
        "os.environ[\"JAVA_HOME\"] = \"/usr/lib/jvm/java-8-openjdk-amd64\""
      ],
      "metadata": {
        "id": "xHoq7VBlJoS3",
        "colab": {
          "base_uri": "https://localhost:8080/"
        },
        "outputId": "7da3ae81-d518-4882-e3ec-ac8b25807ca1"
      },
      "execution_count": 1,
      "outputs": [
        {
          "output_type": "stream",
          "name": "stdout",
          "text": [
            "Collecting pyspark\n",
            "  Downloading pyspark-3.5.1.tar.gz (317.0 MB)\n",
            "\u001b[2K     \u001b[90m━━━━━━━━━━━━━━━━━━━━━━━━━━━━━━━━━━━━━━━━\u001b[0m \u001b[32m317.0/317.0 MB\u001b[0m \u001b[31m1.5 MB/s\u001b[0m eta \u001b[36m0:00:00\u001b[0m\n",
            "\u001b[?25h  Preparing metadata (setup.py) ... \u001b[?25l\u001b[?25hdone\n",
            "Requirement already satisfied: py4j==0.10.9.7 in /usr/local/lib/python3.10/dist-packages (from pyspark) (0.10.9.7)\n",
            "Building wheels for collected packages: pyspark\n",
            "  Building wheel for pyspark (setup.py) ... \u001b[?25l\u001b[?25hdone\n",
            "  Created wheel for pyspark: filename=pyspark-3.5.1-py2.py3-none-any.whl size=317488491 sha256=a1f26bbd7c418df5d7408ae7b30cfe639db01c61232d1d54ecb5f76c76a7fb94\n",
            "  Stored in directory: /root/.cache/pip/wheels/80/1d/60/2c256ed38dddce2fdd93be545214a63e02fbd8d74fb0b7f3a6\n",
            "Successfully built pyspark\n",
            "Installing collected packages: pyspark\n",
            "Successfully installed pyspark-3.5.1\n"
          ]
        }
      ]
    },
    {
      "cell_type": "code",
      "source": [
        "# Libreria Core del lab.\n",
        "import pyspark\n",
        "from pyspark import SparkConf, SparkContext\n",
        "from pyspark.sql import SparkSession\n",
        "import pandas as pd\n",
        "from pyspark.sql.types import StringType, IntegerType, FloatType\n",
        "\n",
        "\n",
        "#Libreria para plotear\n",
        "!pip install --upgrade plotly\n",
        "!pip install missingno\n",
        "import matplotlib.pyplot as plt\n",
        "import plotly.express as px"
      ],
      "metadata": {
        "id": "M6MKzLmPSHzY",
        "colab": {
          "base_uri": "https://localhost:8080/"
        },
        "outputId": "6fbfc1c4-88aa-43d2-9cce-64140e65d368"
      },
      "execution_count": 2,
      "outputs": [
        {
          "output_type": "stream",
          "name": "stdout",
          "text": [
            "Requirement already satisfied: plotly in /usr/local/lib/python3.10/dist-packages (5.15.0)\n",
            "Collecting plotly\n",
            "  Downloading plotly-5.21.0-py3-none-any.whl (15.7 MB)\n",
            "\u001b[2K     \u001b[90m━━━━━━━━━━━━━━━━━━━━━━━━━━━━━━━━━━━━━━━━\u001b[0m \u001b[32m15.7/15.7 MB\u001b[0m \u001b[31m42.2 MB/s\u001b[0m eta \u001b[36m0:00:00\u001b[0m\n",
            "\u001b[?25hRequirement already satisfied: tenacity>=6.2.0 in /usr/local/lib/python3.10/dist-packages (from plotly) (8.2.3)\n",
            "Requirement already satisfied: packaging in /usr/local/lib/python3.10/dist-packages (from plotly) (24.0)\n",
            "Installing collected packages: plotly\n",
            "  Attempting uninstall: plotly\n",
            "    Found existing installation: plotly 5.15.0\n",
            "    Uninstalling plotly-5.15.0:\n",
            "      Successfully uninstalled plotly-5.15.0\n",
            "Successfully installed plotly-5.21.0\n",
            "Requirement already satisfied: missingno in /usr/local/lib/python3.10/dist-packages (0.5.2)\n",
            "Requirement already satisfied: numpy in /usr/local/lib/python3.10/dist-packages (from missingno) (1.25.2)\n",
            "Requirement already satisfied: matplotlib in /usr/local/lib/python3.10/dist-packages (from missingno) (3.7.1)\n",
            "Requirement already satisfied: scipy in /usr/local/lib/python3.10/dist-packages (from missingno) (1.11.4)\n",
            "Requirement already satisfied: seaborn in /usr/local/lib/python3.10/dist-packages (from missingno) (0.13.1)\n",
            "Requirement already satisfied: contourpy>=1.0.1 in /usr/local/lib/python3.10/dist-packages (from matplotlib->missingno) (1.2.1)\n",
            "Requirement already satisfied: cycler>=0.10 in /usr/local/lib/python3.10/dist-packages (from matplotlib->missingno) (0.12.1)\n",
            "Requirement already satisfied: fonttools>=4.22.0 in /usr/local/lib/python3.10/dist-packages (from matplotlib->missingno) (4.51.0)\n",
            "Requirement already satisfied: kiwisolver>=1.0.1 in /usr/local/lib/python3.10/dist-packages (from matplotlib->missingno) (1.4.5)\n",
            "Requirement already satisfied: packaging>=20.0 in /usr/local/lib/python3.10/dist-packages (from matplotlib->missingno) (24.0)\n",
            "Requirement already satisfied: pillow>=6.2.0 in /usr/local/lib/python3.10/dist-packages (from matplotlib->missingno) (9.4.0)\n",
            "Requirement already satisfied: pyparsing>=2.3.1 in /usr/local/lib/python3.10/dist-packages (from matplotlib->missingno) (3.1.2)\n",
            "Requirement already satisfied: python-dateutil>=2.7 in /usr/local/lib/python3.10/dist-packages (from matplotlib->missingno) (2.8.2)\n",
            "Requirement already satisfied: pandas>=1.2 in /usr/local/lib/python3.10/dist-packages (from seaborn->missingno) (2.0.3)\n",
            "Requirement already satisfied: pytz>=2020.1 in /usr/local/lib/python3.10/dist-packages (from pandas>=1.2->seaborn->missingno) (2023.4)\n",
            "Requirement already satisfied: tzdata>=2022.1 in /usr/local/lib/python3.10/dist-packages (from pandas>=1.2->seaborn->missingno) (2024.1)\n",
            "Requirement already satisfied: six>=1.5 in /usr/local/lib/python3.10/dist-packages (from python-dateutil>=2.7->matplotlib->missingno) (1.16.0)\n"
          ]
        }
      ]
    },
    {
      "cell_type": "markdown",
      "source": [
        "Cargue los datos usando **pyspark**"
      ],
      "metadata": {
        "id": "9vJWSlEXYBqq"
      }
    },
    {
      "cell_type": "code",
      "source": [
        "# Se obtienen los datos\n",
        "%%capture\n",
        "!wget https://gitlab.com/imezadelajara/datos_clase_7_mds7202/-/raw/main/datos_lab_spark.parquet"
      ],
      "metadata": {
        "id": "i9Uf-BTZXqXe"
      },
      "execution_count": 3,
      "outputs": []
    },
    {
      "cell_type": "code",
      "source": [
        "sparksession = SparkSession.builder.master(\"local\").appName(\"Lab4\").getOrCreate()"
      ],
      "metadata": {
        "id": "zbTUN0qKl2bc"
      },
      "execution_count": 49,
      "outputs": []
    },
    {
      "cell_type": "code",
      "source": [
        "df_lab = (\n",
        "    sparksession.read\n",
        "    .option(\"header\",'True')\n",
        "    .parquet(\"datos_lab_spark.parquet\")\n",
        "\n",
        ")"
      ],
      "metadata": {
        "id": "PCBEV8qcmP0l"
      },
      "execution_count": 50,
      "outputs": []
    },
    {
      "cell_type": "markdown",
      "source": [
        "### 2. Limpieza con pyspark [8 puntos]\n",
        "(1 punto por pregunta)"
      ],
      "metadata": {
        "id": "z6l6GNynYnh4"
      }
    },
    {
      "cell_type": "markdown",
      "source": [
        "<center>\n",
        "<img src=\"https://miro.medium.com/v2/resize:fit:600/1*A6PpTrehGLxCJWNcUsDTNg.jpeg\" width=350 />\n",
        "\n"
      ],
      "metadata": {
        "id": "8DVdjYyOGRom"
      }
    },
    {
      "cell_type": "markdown",
      "source": [
        "Para comenzar con el análisis exploratorio usted decide empezar limpiando la base de datos con **pyspark** dado el alto volumen de datos que genera diariamente Bodoque E-Shop.\n",
        "\n",
        "**Nota: NO SE PERMITE EL USO DE PANDAS EN ESTA SECCIÓN**\n",
        "\n",
        "\n",
        "\n",
        "1.   Utilice `.printSchema()` para revisar la estructura de los datos\n",
        "2.   Muestre las primeras 10 filas del dataset. Hint: utilice `.show()`\n",
        "3.   Imprima un muestreo aleatorio con el 5% de los datos diponibles. . Hint: utilice `.sample()`\n",
        "4. Revise los tipos de datos de cada columna con `.dtypes()` y responda la siguiente pregunta: ¿Cuál/es columna/s tiene/n un tipo de dato que no es el adecuado y por qué?\n",
        "5. Complete el código entregado para cambiar el tipo de datos para la/s columna/s problemáticas.\n",
        "6. Cuente la cantidad de datos nulos por variable. Recuerde que Spark no posee un método que le permita calcular directamente los nulos.\n",
        "7. Elimine datos nulos.\n",
        "8. Elimine datos duplicados.\n"
      ],
      "metadata": {
        "id": "sPGV40BjZekP"
      }
    },
    {
      "cell_type": "code",
      "source": [
        "#1.\n",
        "df_lab.printSchema()"
      ],
      "metadata": {
        "id": "nw95Jvr-DtwS",
        "colab": {
          "base_uri": "https://localhost:8080/"
        },
        "outputId": "5aec8548-f75f-4509-80de-b7345b0daa95"
      },
      "execution_count": 51,
      "outputs": [
        {
          "output_type": "stream",
          "name": "stdout",
          "text": [
            "root\n",
            " |-- Transaction ID: string (nullable = true)\n",
            " |-- Customer ID: string (nullable = true)\n",
            " |-- Transaction Amount: double (nullable = true)\n",
            " |-- Transaction Date: timestamp_ntz (nullable = true)\n",
            " |-- Payment Method: string (nullable = true)\n",
            " |-- Product Category: string (nullable = true)\n",
            " |-- Quantity: double (nullable = true)\n",
            " |-- Customer Age: double (nullable = true)\n",
            " |-- Customer Location: string (nullable = true)\n",
            " |-- Device Used: string (nullable = true)\n",
            " |-- IP Address: string (nullable = true)\n",
            " |-- Shipping Address: string (nullable = true)\n",
            " |-- Billing Address: string (nullable = true)\n",
            " |-- Is An Alien: double (nullable = true)\n",
            " |-- Account Age Days: double (nullable = true)\n",
            " |-- Transaction Hour: double (nullable = true)\n",
            "\n"
          ]
        }
      ]
    },
    {
      "cell_type": "code",
      "source": [
        "#2\n",
        "df_lab.show(10)"
      ],
      "metadata": {
        "colab": {
          "base_uri": "https://localhost:8080/"
        },
        "id": "J60-U3YEmi64",
        "outputId": "15291fb9-f225-43bf-e32b-5252309efe1d"
      },
      "execution_count": 52,
      "outputs": [
        {
          "output_type": "stream",
          "name": "stdout",
          "text": [
            "+--------------------+--------------------+------------------+-------------------+--------------+----------------+--------+------------+-----------------+-----------+---------------+--------------------+--------------------+-----------+----------------+----------------+\n",
            "|      Transaction ID|         Customer ID|Transaction Amount|   Transaction Date|Payment Method|Product Category|Quantity|Customer Age|Customer Location|Device Used|     IP Address|    Shipping Address|     Billing Address|Is An Alien|Account Age Days|Transaction Hour|\n",
            "+--------------------+--------------------+------------------+-------------------+--------------+----------------+--------+------------+-----------------+-----------+---------------+--------------------+--------------------+-----------+----------------+----------------+\n",
            "|4b4a5fe1-ec4d-4f9...|d1b87f62-51b2-493...|             58.09|2022-03-24 00:00:00| bank transfer|     electronics|     1.0|        17.0|    Amandaborough|       NULL| 212.195.49.198|Unit 8934 Box 005...|Unit 8934 Box 005...|        0.0|            NULL|             5.0|\n",
            "|bacd9392-73ce-481...|37de64d5-e901-4a5...|            389.96|2023-01-17 00:00:00|    debit card|     electronics|     2.0|        40.0|     East Timothy|    desktop|208.106.249.121|634 May Keys\\nPor...|634 May Keys\\nPor...|        0.0|            72.0|             8.0|\n",
            "|d936a024-3a1d-40d...|1bac88d6-4b22-409...|            134.19|2023-06-01 00:00:00|        PayPal|   home & garden|     2.0|        22.0|       Davismouth|     tablet|   76.63.88.212|                NULL|16282 Dana Falls ...|        0.0|            63.0|            NULL|\n",
            "|a30aaab5-4042-4b8...|2357c76e-9253-4ce...|            226.17|2019-07-02 00:00:00| bank transfer|        clothing|     5.0|        31.0|         Lynnberg|    desktop| 207.208.171.73|828 Strong Loaf A...|828 Strong Loaf A...|        0.0|           124.0|            20.0|\n",
            "|b0634f43-d07d-4ca...|45071bc5-9588-43e...|            121.53|2020-10-26 00:00:00| bank transfer|        clothing|     2.0|        51.0|             NULL|       NULL| 190.172.14.169|29799 Jason Hills...|29799 Jason Hills...|        0.0|           158.0|            NULL|\n",
            "|8c4711b8-7477-421...|29616b04-2d5c-472...|            166.41|2019-06-10 00:00:00| bank transfer|    toys & games|    NULL|        34.0|     Herreramouth|     tablet|           NULL|5699 Brittany Vil...|120 Kristi Dale\\n...|       NULL|            38.0|            10.0|\n",
            "|fd0342fe-6b16-4a3...|fe21ae29-ba4c-424...|             92.88|2020-10-09 00:00:00|        PayPal|    toys & games|     2.0|        14.0|        Ramosfort|     tablet|   13.45.27.192|                NULL|727 Gibson Island...|        0.0|           119.0|            19.0|\n",
            "|2d7299de-355b-479...|024257c3-5671-4de...|            318.14|2021-10-09 00:00:00|   credit card| health & beauty|     4.0|        42.0|             NULL|    desktop|131.141.230.185|3914 Davis Union\\...|                NULL|        0.0|           251.0|            NULL|\n",
            "|de51c9df-ab52-43a...|                NULL|              NULL|2019-03-22 00:00:00| bank transfer|   home & garden|    NULL|        38.0|       Carneyfurt|       NULL|           NULL|47893 Maldonado S...|                NULL|        0.0|           190.0|            19.0|\n",
            "|                NULL|aab93e75-582f-445...|            121.78|2022-02-28 00:00:00| bank transfer| health & beauty|     4.0|        39.0|       Brockburgh|     mobile| 174.32.252.238|2334 Briana Cente...|2334 Briana Cente...|        0.0|           343.0|            NULL|\n",
            "+--------------------+--------------------+------------------+-------------------+--------------+----------------+--------+------------+-----------------+-----------+---------------+--------------------+--------------------+-----------+----------------+----------------+\n",
            "only showing top 10 rows\n",
            "\n"
          ]
        }
      ]
    },
    {
      "cell_type": "code",
      "source": [
        "#3\n",
        "df_lab.sample(fraction=0.05).show()"
      ],
      "metadata": {
        "colab": {
          "base_uri": "https://localhost:8080/"
        },
        "id": "sl0V-SLDmmhA",
        "outputId": "d8f5db4f-df0d-48a3-ab85-0d6cc16443d0"
      },
      "execution_count": 53,
      "outputs": [
        {
          "output_type": "stream",
          "name": "stdout",
          "text": [
            "+--------------------+--------------------+------------------+-------------------+--------------+----------------+--------+------------+-----------------+-----------+---------------+--------------------+--------------------+-----------+----------------+----------------+\n",
            "|      Transaction ID|         Customer ID|Transaction Amount|   Transaction Date|Payment Method|Product Category|Quantity|Customer Age|Customer Location|Device Used|     IP Address|    Shipping Address|     Billing Address|Is An Alien|Account Age Days|Transaction Hour|\n",
            "+--------------------+--------------------+------------------+-------------------+--------------+----------------+--------+------------+-----------------+-----------+---------------+--------------------+--------------------+-----------+----------------+----------------+\n",
            "|d936a024-3a1d-40d...|1bac88d6-4b22-409...|            134.19|2023-06-01 00:00:00|        PayPal|   home & garden|     2.0|        22.0|       Davismouth|     tablet|   76.63.88.212|                NULL|16282 Dana Falls ...|        0.0|            63.0|            NULL|\n",
            "|a0279011-6921-4c0...|145ae1bd-4c17-468...|            355.32|               NULL|    debit card|   home & garden|     1.0|        45.0|       Morenostad|    desktop|    15.50.77.94|509 James Well Su...|509 James Well Su...|       NULL|           148.0|            20.0|\n",
            "|e90f1cdd-21ef-4b9...|a16a3d44-8d89-469...|            847.22|2024-05-25 00:00:00| bank transfer|            NULL|     4.0|        32.0| Port Danielville|     mobile|185.146.150.184|3047 Stevenson Cr...|3047 Stevenson Cr...|       NULL|            11.0|            NULL|\n",
            "|fa75875e-8dc3-4ff...|e75e17f3-65bd-40d...|            106.72|               NULL|   credit card| health & beauty|     3.0|        NULL| South Kathyville|     mobile|223.133.208.242|8275 Dixon Key Ap...|8275 Dixon Key Ap...|        0.0|            NULL|             4.0|\n",
            "|377ce7ed-0f0b-49c...|765e8076-ab50-457...|            186.28|2020-11-14 00:00:00|   credit card| health & beauty|     4.0|        39.0|             NULL|     tablet|  190.83.210.73|79356 Robbins Vie...|79356 Robbins Vie...|       NULL|           354.0|            NULL|\n",
            "|2fd0fb49-4d6c-4f1...|a7f8b5aa-5dbf-4e9...|            181.91|2022-04-13 00:00:00|   credit card|            NULL|    NULL|        36.0|       Georgebury|     tablet|   179.69.29.67|061 Elaine Motorw...|                NULL|        0.0|           267.0|             9.0|\n",
            "|48a83e79-3ef7-4ee...|7a1550d7-1b60-414...|             157.1|2018-06-06 00:00:00|        PayPal|        clothing|     2.0|        28.0| South Sarahville|    desktop|  13.131.100.58|81956 Harold Free...|81956 Harold Free...|        0.0|           207.0|            NULL|\n",
            "|d25b22b7-362a-490...|db5b38f4-32b9-448...|            379.43|2020-08-28 00:00:00|          NULL| health & beauty|     4.0|        35.0|     Port Jessica|     tablet| 163.233.133.53|PSC 6779, Box 529...|PSC 6779, Box 529...|        0.0|            49.0|            NULL|\n",
            "|4458536b-1f3a-423...|                NULL|             66.93|               NULL|        PayPal|        clothing|     2.0|        46.0|             NULL|     mobile|           NULL|                NULL|99943 Mark Crossi...|       NULL|            NULL|             1.0|\n",
            "|5b3e1a44-e768-473...|f164c8cf-bcaf-417...|              NULL|               NULL|   credit card| health & beauty|     1.0|        NULL|        Robinside|       NULL|  74.38.252.185|346 Pamela Lakes ...|346 Pamela Lakes ...|       NULL|           127.0|            22.0|\n",
            "|                NULL|                NULL|             69.35|2020-03-04 00:00:00|    debit card|        clothing|    NULL|        50.0|       Barnesfort|     mobile| 148.64.174.255|34191 Smith Summi...|34191 Smith Summi...|       NULL|           218.0|            11.0|\n",
            "|d6b07cbb-e257-49f...|c40d15b5-51e7-412...|              NULL|2018-02-17 00:00:00|    debit card|     electronics|     2.0|        50.0|       Lake David|     tablet|  36.85.106.183|3743 Paula Knoll ...|                NULL|       NULL|            NULL|             9.0|\n",
            "|0fe1ea71-c1b7-432...|59b652b6-d28a-441...|             24.29|               NULL|   credit card|            NULL|     5.0|        31.0|   East Mikemouth|     mobile|   91.82.46.203|67217 Jones Meado...|                NULL|        0.0|           312.0|            15.0|\n",
            "|de6a34df-155a-4d3...|208e2ea3-e867-4c1...|              NULL|2020-02-08 00:00:00|          NULL|        clothing|     2.0|        NULL|     Kathleenbury|     mobile| 27.125.205.155|7363 Gloria Manor...|7363 Gloria Manor...|       NULL|           309.0|            14.0|\n",
            "|                NULL|0326bd63-7bd7-4b2...|              NULL|2020-09-16 00:00:00| bank transfer|     electronics|     3.0|        53.0|  Franklinchester|     tablet|   58.204.41.96|                NULL|2501 Perry Ranch ...|       NULL|           152.0|            18.0|\n",
            "|214c2a5a-5804-40a...|5b5a128e-de5c-4a7...|            289.05|2020-01-24 00:00:00|        PayPal|            NULL|     5.0|        NULL|    Hendersontown|       NULL|           NULL|                NULL|02095 Morrison Tr...|        0.0|            NULL|             4.0|\n",
            "|122f8a2b-1e01-4b8...|912ceb3f-9771-40c...|            137.62|2020-06-07 00:00:00|          NULL|        clothing|     2.0|        43.0|        Brianfort|       NULL|  176.27.179.85|26250 Michelle Mo...|26250 Michelle Mo...|        0.0|             7.0|            NULL|\n",
            "|0464c0e9-d3d8-4fe...|                NULL|              NULL|2019-04-15 00:00:00|        PayPal|            NULL|     3.0|        42.0|       New Daniel|     mobile|113.174.195.232|46043 Davila Road...|                NULL|        0.0|           335.0|            15.0|\n",
            "|1e0627cc-d0cd-449...|2700f67a-cb8c-432...|              NULL|2021-01-19 00:00:00|        PayPal| health & beauty|     3.0|        NULL|   East Davidview|     mobile|           NULL|189 Cory Mission ...|                NULL|       NULL|            95.0|            10.0|\n",
            "|28776528-7a74-493...|330d99c5-0d96-4d4...|              NULL|2024-06-09 00:00:00| bank transfer|     electronics|     2.0|        44.0|       Ortizmouth|     mobile| 159.234.36.198|35074 Carrie Port...|35074 Carrie Port...|        0.0|           167.0|            NULL|\n",
            "+--------------------+--------------------+------------------+-------------------+--------------+----------------+--------+------------+-----------------+-----------+---------------+--------------------+--------------------+-----------+----------------+----------------+\n",
            "only showing top 20 rows\n",
            "\n"
          ]
        }
      ]
    },
    {
      "cell_type": "code",
      "source": [
        "#4\n",
        "df_lab.dtypes"
      ],
      "metadata": {
        "colab": {
          "base_uri": "https://localhost:8080/"
        },
        "id": "-pcT3uWGmqoa",
        "outputId": "1d9f71ac-25eb-4f7e-ee6a-b937c7975a81"
      },
      "execution_count": 54,
      "outputs": [
        {
          "output_type": "execute_result",
          "data": {
            "text/plain": [
              "[('Transaction ID', 'string'),\n",
              " ('Customer ID', 'string'),\n",
              " ('Transaction Amount', 'double'),\n",
              " ('Transaction Date', 'timestamp_ntz'),\n",
              " ('Payment Method', 'string'),\n",
              " ('Product Category', 'string'),\n",
              " ('Quantity', 'double'),\n",
              " ('Customer Age', 'double'),\n",
              " ('Customer Location', 'string'),\n",
              " ('Device Used', 'string'),\n",
              " ('IP Address', 'string'),\n",
              " ('Shipping Address', 'string'),\n",
              " ('Billing Address', 'string'),\n",
              " ('Is An Alien', 'double'),\n",
              " ('Account Age Days', 'double'),\n",
              " ('Transaction Hour', 'double')]"
            ]
          },
          "metadata": {},
          "execution_count": 54
        }
      ]
    },
    {
      "cell_type": "markdown",
      "source": [
        "**Con respecto a las columnas con tipo equivocado, entre estas se encuentras las siguientes:**\n",
        "- Quantity -> de double a int\n",
        "- Customer Age -> de double a int\n",
        "- Is An Alien -> de double a boolean o int\n",
        "- Account Age Days -> de double a int\n",
        "- Transaction Hour -> de double a int"
      ],
      "metadata": {
        "id": "QCBbx2eUEU5m"
      }
    },
    {
      "cell_type": "code",
      "source": [
        "#5 (Se usaron solo tipos que estaban importados anteriormente) Se usa función vista en clases\n",
        "def cast_columns(df, cols_types):\n",
        "    \"\"\"\n",
        "    Cambia el tipo de múltiples columnas en un DataFrame de Spark.\n",
        "\n",
        "    Parámetros:\n",
        "    - df: DataFrame de Spark.\n",
        "    - cols_types: Diccionario con nombres de columnas como claves y tipos de datos de Spark como valores.\n",
        "\n",
        "    Retorna:\n",
        "    - DataFrame de Spark con tipos de columnas modificados.\n",
        "    \"\"\"\n",
        "    for col_name, new_type in cols_types.items():\n",
        "        df = df.withColumn(col_name, df[col_name].cast(new_type))\n",
        "    return df\n",
        "\n",
        "cols_to_cast = {\"Quantity\": IntegerType(),\n",
        "                \"Customer Age\": IntegerType(),\n",
        "                \"Is An Alien\": IntegerType(),\n",
        "                \"Account Age Days\": IntegerType(),\n",
        "                \"Transaction Hour\": IntegerType()}\n",
        "\n",
        "df_lab = cast_columns(df_lab,cols_to_cast)\n",
        "df_lab.printSchema()"
      ],
      "metadata": {
        "colab": {
          "base_uri": "https://localhost:8080/"
        },
        "id": "ayMoXIveGCAy",
        "outputId": "4cf87ba8-ef76-4742-a9b1-8cb1259a5a94"
      },
      "execution_count": 55,
      "outputs": [
        {
          "output_type": "stream",
          "name": "stdout",
          "text": [
            "root\n",
            " |-- Transaction ID: string (nullable = true)\n",
            " |-- Customer ID: string (nullable = true)\n",
            " |-- Transaction Amount: double (nullable = true)\n",
            " |-- Transaction Date: timestamp_ntz (nullable = true)\n",
            " |-- Payment Method: string (nullable = true)\n",
            " |-- Product Category: string (nullable = true)\n",
            " |-- Quantity: integer (nullable = true)\n",
            " |-- Customer Age: integer (nullable = true)\n",
            " |-- Customer Location: string (nullable = true)\n",
            " |-- Device Used: string (nullable = true)\n",
            " |-- IP Address: string (nullable = true)\n",
            " |-- Shipping Address: string (nullable = true)\n",
            " |-- Billing Address: string (nullable = true)\n",
            " |-- Is An Alien: integer (nullable = true)\n",
            " |-- Account Age Days: integer (nullable = true)\n",
            " |-- Transaction Hour: integer (nullable = true)\n",
            "\n"
          ]
        }
      ]
    },
    {
      "cell_type": "code",
      "source": [
        "# 6\n",
        "from pyspark.sql.functions import when, col, sum\n",
        "exprs = [sum(when(col(c).isNull(), 1).otherwise(0)).alias(c) for c in df_lab.columns]\n",
        "df_lab.agg(*exprs).show()"
      ],
      "metadata": {
        "colab": {
          "base_uri": "https://localhost:8080/"
        },
        "id": "y2Y2V8C4IO-G",
        "outputId": "4f747e49-929c-4526-f6ef-0e89a68dfdde"
      },
      "execution_count": 56,
      "outputs": [
        {
          "output_type": "stream",
          "name": "stdout",
          "text": [
            "+--------------+-----------+------------------+----------------+--------------+----------------+--------+------------+-----------------+-----------+----------+----------------+---------------+-----------+----------------+----------------+\n",
            "|Transaction ID|Customer ID|Transaction Amount|Transaction Date|Payment Method|Product Category|Quantity|Customer Age|Customer Location|Device Used|IP Address|Shipping Address|Billing Address|Is An Alien|Account Age Days|Transaction Hour|\n",
            "+--------------+-----------+------------------+----------------+--------------+----------------+--------+------------+-----------------+-----------+----------+----------------+---------------+-----------+----------------+----------------+\n",
            "|        126886|     126847|            126840|          126831|        126877|          126814|  126966|      126826|           126781|     126911|    126929|          126734|         126804|     126828|          126886|          126953|\n",
            "+--------------+-----------+------------------+----------------+--------------+----------------+--------+------------+-----------------+-----------+----------+----------------+---------------+-----------+----------------+----------------+\n",
            "\n"
          ]
        }
      ]
    },
    {
      "cell_type": "code",
      "source": [
        "# 7\n",
        "df_lab = df_lab.na.drop(how=\"any\")"
      ],
      "metadata": {
        "id": "D89NW-nmJZlW"
      },
      "execution_count": 57,
      "outputs": []
    },
    {
      "cell_type": "code",
      "source": [
        "df_lab.count()"
      ],
      "metadata": {
        "colab": {
          "base_uri": "https://localhost:8080/"
        },
        "id": "fmtcfWM-LOrL",
        "outputId": "807c9a46-364f-420c-c109-5d0b9e9c980e"
      },
      "execution_count": 58,
      "outputs": [
        {
          "output_type": "execute_result",
          "data": {
            "text/plain": [
              "13388"
            ]
          },
          "metadata": {},
          "execution_count": 58
        }
      ]
    },
    {
      "cell_type": "code",
      "source": [
        "# 8 datos duplicados: están indexados por Transaction ID, con lo cual se buscarán duplicados ahí\n",
        "df_lab = df_lab.dropDuplicates([\"Transaction ID\"])"
      ],
      "metadata": {
        "id": "3XFYP6z1KkcY"
      },
      "execution_count": 59,
      "outputs": []
    },
    {
      "cell_type": "code",
      "source": [
        "df_lab.count()"
      ],
      "metadata": {
        "colab": {
          "base_uri": "https://localhost:8080/"
        },
        "id": "TqBm33CwN6rg",
        "outputId": "f0163c70-d858-41fa-92ba-556a1a6d2a3a"
      },
      "execution_count": 60,
      "outputs": [
        {
          "output_type": "execute_result",
          "data": {
            "text/plain": [
              "13237"
            ]
          },
          "metadata": {},
          "execution_count": 60
        }
      ]
    },
    {
      "cell_type": "markdown",
      "source": [
        "### 3. Transformaciones con pyspark [6 puntos]\n",
        "(1 punto por pregunta)"
      ],
      "metadata": {
        "id": "MjxI2Xd6cRu1"
      }
    },
    {
      "cell_type": "markdown",
      "source": [
        "<center>\n",
        "<img src=\"https://live.staticflickr.com/13/91801406_0e71d7f019_b.jpg\" width=350 />\n",
        "\n"
      ],
      "metadata": {
        "id": "bPfhWPZeHXUH"
      }
    },
    {
      "cell_type": "markdown",
      "source": [
        "**Nota: NO SE PERMITE EL USO DE PANDAS EN ESTA SECCIÓN**\n",
        "\n",
        "Para continuar con el análisis, los especistas de Bodoque les gustaría tener nuevas variables disponibles. Tras las notas de la reunión usted llega a la conclusión de que tiene que realizar las siguientes tareas (con el dataset preprocesado de la seccion anterior):\n",
        "\n",
        "\n",
        "1.   Agregar una columna llamada \"Transaction bp\" con el **monto total** de la transacción en bodoque pesos. Se considera que $x$ dólares equivalen a $log(48+|x^{36}|)$ bodoque pesos.\n",
        "2.   Crear una columna llamada \"Transaction Month\" con el mes en que se realiza una transacción.\n",
        "3.   Crear la variable *Type of purchase* según la catidad de unidades vendidas de acuerdo a las siguientes categorías.\n",
        "  * Compra minorista: 5 productos o menos.\n",
        "  * Compra mayorista: 6 produtos o más.\n",
        "4. Imprima los registros de compras hechas por alienígenas en el comecio mayorista.  Utilice `.filter()`.\n",
        "5. Cuente la cantidad de compras realizadas por humanos y la cantidad de compras realizadas por alienígenas. Utilice `.groupby()`.\n",
        "6. Muestre una tabla con la recaudación promedio por transacción para cada método de pago, tanto para humanos como alienígenas. Utilice `pivot()`."
      ],
      "metadata": {
        "id": "lbIDKn44cWhI"
      }
    },
    {
      "cell_type": "code",
      "source": [
        "#1\n",
        "from pyspark.sql.functions import log, abs\n",
        "df_lab = df_lab.withColumn('Transaction bp',log(48+abs(df_lab['Transaction Amount'])**36))"
      ],
      "metadata": {
        "id": "cbtFJi3mHnkK"
      },
      "execution_count": 61,
      "outputs": []
    },
    {
      "cell_type": "code",
      "source": [
        "#2\n",
        "from pyspark.sql.functions import month\n",
        "df_lab = df_lab.withColumn('Transaction Month', month(df_lab[\"Transaction Date\"]))"
      ],
      "metadata": {
        "id": "kDCBVcRkSpg-"
      },
      "execution_count": 62,
      "outputs": []
    },
    {
      "cell_type": "code",
      "source": [
        "#3\n",
        "from pyspark.sql.functions import when\n",
        "df_lab = df_lab.withColumn('Type of purchase', when(df_lab[\"Quantity\"]>5,\"Compra mayorista\").otherwise(\"Compra minorista\"))"
      ],
      "metadata": {
        "id": "GKaphuSxTYfw"
      },
      "execution_count": 63,
      "outputs": []
    },
    {
      "cell_type": "code",
      "source": [
        "df_lab.filter(df_lab[\"Quantity\"]>5).show() # POR LO FILTRADO NO HAY COMPRAS MAYORES A 5"
      ],
      "metadata": {
        "colab": {
          "base_uri": "https://localhost:8080/"
        },
        "id": "kAq0oAZlQJDc",
        "outputId": "2bc68bf5-9d2c-49af-ac68-97de9d22dc68"
      },
      "execution_count": 64,
      "outputs": [
        {
          "output_type": "stream",
          "name": "stdout",
          "text": [
            "+--------------+-----------+------------------+----------------+--------------+----------------+--------+------------+-----------------+-----------+----------+----------------+---------------+-----------+----------------+----------------+--------------+-----------------+----------------+\n",
            "|Transaction ID|Customer ID|Transaction Amount|Transaction Date|Payment Method|Product Category|Quantity|Customer Age|Customer Location|Device Used|IP Address|Shipping Address|Billing Address|Is An Alien|Account Age Days|Transaction Hour|Transaction bp|Transaction Month|Type of purchase|\n",
            "+--------------+-----------+------------------+----------------+--------------+----------------+--------+------------+-----------------+-----------+----------+----------------+---------------+-----------+----------------+----------------+--------------+-----------------+----------------+\n",
            "+--------------+-----------+------------------+----------------+--------------+----------------+--------+------------+-----------------+-----------+----------+----------------+---------------+-----------+----------------+----------------+--------------+-----------------+----------------+\n",
            "\n"
          ]
        }
      ]
    },
    {
      "cell_type": "code",
      "source": [
        "#4\n",
        "df_lab.filter((df_lab[\"Is An Alien\"]==1) & (df_lab[\"Type of purchase\"]==\"Compra mayorista\")).show()"
      ],
      "metadata": {
        "id": "0pISvRCfVNEW",
        "colab": {
          "base_uri": "https://localhost:8080/"
        },
        "outputId": "9ddfffa6-35ee-4420-cbca-f8e7d0c58602"
      },
      "execution_count": 65,
      "outputs": [
        {
          "output_type": "stream",
          "name": "stdout",
          "text": [
            "+--------------+-----------+------------------+----------------+--------------+----------------+--------+------------+-----------------+-----------+----------+----------------+---------------+-----------+----------------+----------------+--------------+-----------------+----------------+\n",
            "|Transaction ID|Customer ID|Transaction Amount|Transaction Date|Payment Method|Product Category|Quantity|Customer Age|Customer Location|Device Used|IP Address|Shipping Address|Billing Address|Is An Alien|Account Age Days|Transaction Hour|Transaction bp|Transaction Month|Type of purchase|\n",
            "+--------------+-----------+------------------+----------------+--------------+----------------+--------+------------+-----------------+-----------+----------+----------------+---------------+-----------+----------------+----------------+--------------+-----------------+----------------+\n",
            "+--------------+-----------+------------------+----------------+--------------+----------------+--------+------------+-----------------+-----------+----------+----------------+---------------+-----------+----------------+----------------+--------------+-----------------+----------------+\n",
            "\n"
          ]
        }
      ]
    },
    {
      "cell_type": "code",
      "source": [
        "#5\n",
        "df_lab_groups = df_lab.groupBy(\"Is An Alien\").agg(\n",
        "    {\n",
        "        \"Transaction ID\" : \"count\"\n",
        "    }\n",
        ")"
      ],
      "metadata": {
        "id": "dUTsmeufVxBz"
      },
      "execution_count": 66,
      "outputs": []
    },
    {
      "cell_type": "code",
      "source": [
        "df_lab_groups.show()"
      ],
      "metadata": {
        "colab": {
          "base_uri": "https://localhost:8080/"
        },
        "id": "AUCOKPflQ9A7",
        "outputId": "0525daee-c3f4-41ed-e13e-fd5b4c74cadc"
      },
      "execution_count": 67,
      "outputs": [
        {
          "output_type": "stream",
          "name": "stdout",
          "text": [
            "+-----------+---------------------+\n",
            "|Is An Alien|count(Transaction ID)|\n",
            "+-----------+---------------------+\n",
            "|          1|                  685|\n",
            "|          0|                12552|\n",
            "+-----------+---------------------+\n",
            "\n"
          ]
        }
      ]
    },
    {
      "cell_type": "code",
      "source": [
        "# 6\n",
        "df_plot = df_lab.groupBy(\"Payment Method\").pivot(\"Is An Alien\").mean(\"Transaction Amount\")\n",
        "df_plot.show()"
      ],
      "metadata": {
        "colab": {
          "base_uri": "https://localhost:8080/"
        },
        "id": "wPcT6CrbRBaI",
        "outputId": "c71eb7e8-672f-4a6f-800c-d9ca4a71e2fe"
      },
      "execution_count": 68,
      "outputs": [
        {
          "output_type": "stream",
          "name": "stdout",
          "text": [
            "+--------------+------------------+-----------------+\n",
            "|Payment Method|                 0|                1|\n",
            "+--------------+------------------+-----------------+\n",
            "|    debit card|215.66604264659748|549.4418644067796|\n",
            "| bank transfer|  214.751203556685|550.3845930232562|\n",
            "|        PayPal| 214.8426181936741|469.5177647058822|\n",
            "|   credit card|206.09774070543347|520.4671686746989|\n",
            "+--------------+------------------+-----------------+\n",
            "\n"
          ]
        }
      ]
    },
    {
      "cell_type": "markdown",
      "source": [
        "### 4. EDA [18 puntos]\n",
        "(1 punto por gráfico y 1 punto por su interpretación)"
      ],
      "metadata": {
        "id": "17Muj6u2jOLq"
      }
    },
    {
      "cell_type": "markdown",
      "source": [
        "<center>\n",
        "<img src=\"https://i.pinimg.com/originals/41/7e/7b/417e7b9089bcc20c4909df8954c6e742.gif\" width=400 />\n",
        "\n"
      ],
      "metadata": {
        "id": "7F3yo66wFQ0z"
      }
    },
    {
      "cell_type": "markdown",
      "source": [
        "Esta sección tiene como objetivo evaluar su habilidad para generar reportes y conclusiones a partir de los patrones identificados en los datos proporcionados por Bodoque. Específicamente, se enfoca en **caracterizar las transacciones** y **explorar las diferencias y similitudes en el comportamiento de humanos y aliens**. Utilice el dataset que ya incluye las transformaciones necesarias.\n",
        "\n",
        "Por favor, asegúrese de que **todas** las visualizaciones que realice cumplan con los siguientes criterios:\n",
        "- Deben ser relevantes y fáciles de interpretar.\n",
        "- Cada gráfico debe incluir un título claro, nombres en los ejes y leyendas adecuadas.\n",
        "- Adjunte una breve descripción interpretativa junto a cada gráfico para explicar los resultados visualizados.\n",
        "\n",
        "Para llevar a cabo esta tarea, siga los siguientes pasos utilizando la librería de visualización de su elección (matplotlib, seaborn, plotly, etc):\n",
        "\n",
        "1. **Conversión del DataFrame a formato pandas**: Pase el DataFrame procesado a formato pandas. Evite realizar transformaciones adicionales con pandas.\n",
        "2. **Visualización de Variables Categóricas**:\n",
        "   - Genere **tres gráficos de barras** que diferencien entre humanos y aliens. Analice y comente cualquier diferencia o similitud observada entre estos dos grupos.\n",
        "3. **Visualización de Variables Numéricas**:\n",
        "   - Elabore **tres distplots** para examinar las distribuciones de variables numéricas, diferenciando entre humanos y aliens. Comente las diferencias o similitudes notables.\n",
        "4. **Análisis de Patrones en Transacciones**:\n",
        "   - Cree **tres gráficos avanzados** que ayuden a identificar patrones en las transacciones. Estos gráficos deben incorporar al menos dos dimensiones y diferir de los anteriores. Algunos ejemplos podrían ser un lineplot que muestre la cantidad de transacciones mensuales por canal de venta, o un barplot que exhiba los tres productos más vendidos por canal.\n",
        "\n",
        "Estos pasos le permitirán no solo visualizar datos complejos de manera efectiva, sino también interpretar estos datos para extraer insights valiosos acerca del comportamiento de los consumidores en el contexto de Bodoque."
      ],
      "metadata": {
        "id": "ayN5LYRamE7-"
      }
    },
    {
      "cell_type": "code",
      "source": [
        "# 1\n",
        "df_pandas = df_lab.toPandas()"
      ],
      "metadata": {
        "id": "tGw5y36IxRk3"
      },
      "execution_count": null,
      "outputs": []
    },
    {
      "cell_type": "code",
      "source": [
        "df_pandas.groupby(['Is An Alien',\"Payment Method\"]).mean(\"Transaction Amount\").reset_index()"
      ],
      "metadata": {
        "colab": {
          "base_uri": "https://localhost:8080/",
          "height": 300
        },
        "id": "j7amXSCni5qj",
        "outputId": "22f98c4d-9987-41d8-a09f-0dbdf66b3f59"
      },
      "execution_count": null,
      "outputs": [
        {
          "output_type": "execute_result",
          "data": {
            "text/plain": [
              "   Is An Alien Payment Method  Transaction Amount  Quantity  Customer Age  \\\n",
              "0            0         PayPal          214.842618  2.986306     34.448647   \n",
              "1            0  bank transfer          214.751204  3.001270     34.312798   \n",
              "2            0    credit card          206.097741  3.045758     34.352081   \n",
              "3            0     debit card          215.666043  2.957353     34.615867   \n",
              "4            1         PayPal          469.517765  2.964706     34.088235   \n",
              "5            1  bank transfer          550.384593  2.965116     34.703488   \n",
              "6            1    credit card          520.467169  3.186747     34.108434   \n",
              "7            1     debit card          549.441864  2.988701     33.265537   \n",
              "\n",
              "   Account Age Days  Transaction Hour  Transaction bp  Transaction Month  \n",
              "0        182.734594         11.323443      176.593334           6.512227  \n",
              "1        183.211496         11.639886      177.577971           6.472213  \n",
              "2        183.261837         11.279631      175.485904           6.542421  \n",
              "3        181.415491         11.328316      177.503965           6.502979  \n",
              "4        120.976471          7.623529      196.858898           6.552941  \n",
              "5        111.494186          7.401163      198.296804           6.726744  \n",
              "6        118.168675          7.265060      200.348209           6.289157  \n",
              "7        121.028249          7.604520      198.419840           6.050847  "
            ],
            "text/html": [
              "\n",
              "  <div id=\"df-4a7294ef-84e9-4713-946c-cacf74358bbf\" class=\"colab-df-container\">\n",
              "    <div>\n",
              "<style scoped>\n",
              "    .dataframe tbody tr th:only-of-type {\n",
              "        vertical-align: middle;\n",
              "    }\n",
              "\n",
              "    .dataframe tbody tr th {\n",
              "        vertical-align: top;\n",
              "    }\n",
              "\n",
              "    .dataframe thead th {\n",
              "        text-align: right;\n",
              "    }\n",
              "</style>\n",
              "<table border=\"1\" class=\"dataframe\">\n",
              "  <thead>\n",
              "    <tr style=\"text-align: right;\">\n",
              "      <th></th>\n",
              "      <th>Is An Alien</th>\n",
              "      <th>Payment Method</th>\n",
              "      <th>Transaction Amount</th>\n",
              "      <th>Quantity</th>\n",
              "      <th>Customer Age</th>\n",
              "      <th>Account Age Days</th>\n",
              "      <th>Transaction Hour</th>\n",
              "      <th>Transaction bp</th>\n",
              "      <th>Transaction Month</th>\n",
              "    </tr>\n",
              "  </thead>\n",
              "  <tbody>\n",
              "    <tr>\n",
              "      <th>0</th>\n",
              "      <td>0</td>\n",
              "      <td>PayPal</td>\n",
              "      <td>214.842618</td>\n",
              "      <td>2.986306</td>\n",
              "      <td>34.448647</td>\n",
              "      <td>182.734594</td>\n",
              "      <td>11.323443</td>\n",
              "      <td>176.593334</td>\n",
              "      <td>6.512227</td>\n",
              "    </tr>\n",
              "    <tr>\n",
              "      <th>1</th>\n",
              "      <td>0</td>\n",
              "      <td>bank transfer</td>\n",
              "      <td>214.751204</td>\n",
              "      <td>3.001270</td>\n",
              "      <td>34.312798</td>\n",
              "      <td>183.211496</td>\n",
              "      <td>11.639886</td>\n",
              "      <td>177.577971</td>\n",
              "      <td>6.472213</td>\n",
              "    </tr>\n",
              "    <tr>\n",
              "      <th>2</th>\n",
              "      <td>0</td>\n",
              "      <td>credit card</td>\n",
              "      <td>206.097741</td>\n",
              "      <td>3.045758</td>\n",
              "      <td>34.352081</td>\n",
              "      <td>183.261837</td>\n",
              "      <td>11.279631</td>\n",
              "      <td>175.485904</td>\n",
              "      <td>6.542421</td>\n",
              "    </tr>\n",
              "    <tr>\n",
              "      <th>3</th>\n",
              "      <td>0</td>\n",
              "      <td>debit card</td>\n",
              "      <td>215.666043</td>\n",
              "      <td>2.957353</td>\n",
              "      <td>34.615867</td>\n",
              "      <td>181.415491</td>\n",
              "      <td>11.328316</td>\n",
              "      <td>177.503965</td>\n",
              "      <td>6.502979</td>\n",
              "    </tr>\n",
              "    <tr>\n",
              "      <th>4</th>\n",
              "      <td>1</td>\n",
              "      <td>PayPal</td>\n",
              "      <td>469.517765</td>\n",
              "      <td>2.964706</td>\n",
              "      <td>34.088235</td>\n",
              "      <td>120.976471</td>\n",
              "      <td>7.623529</td>\n",
              "      <td>196.858898</td>\n",
              "      <td>6.552941</td>\n",
              "    </tr>\n",
              "    <tr>\n",
              "      <th>5</th>\n",
              "      <td>1</td>\n",
              "      <td>bank transfer</td>\n",
              "      <td>550.384593</td>\n",
              "      <td>2.965116</td>\n",
              "      <td>34.703488</td>\n",
              "      <td>111.494186</td>\n",
              "      <td>7.401163</td>\n",
              "      <td>198.296804</td>\n",
              "      <td>6.726744</td>\n",
              "    </tr>\n",
              "    <tr>\n",
              "      <th>6</th>\n",
              "      <td>1</td>\n",
              "      <td>credit card</td>\n",
              "      <td>520.467169</td>\n",
              "      <td>3.186747</td>\n",
              "      <td>34.108434</td>\n",
              "      <td>118.168675</td>\n",
              "      <td>7.265060</td>\n",
              "      <td>200.348209</td>\n",
              "      <td>6.289157</td>\n",
              "    </tr>\n",
              "    <tr>\n",
              "      <th>7</th>\n",
              "      <td>1</td>\n",
              "      <td>debit card</td>\n",
              "      <td>549.441864</td>\n",
              "      <td>2.988701</td>\n",
              "      <td>33.265537</td>\n",
              "      <td>121.028249</td>\n",
              "      <td>7.604520</td>\n",
              "      <td>198.419840</td>\n",
              "      <td>6.050847</td>\n",
              "    </tr>\n",
              "  </tbody>\n",
              "</table>\n",
              "</div>\n",
              "    <div class=\"colab-df-buttons\">\n",
              "\n",
              "  <div class=\"colab-df-container\">\n",
              "    <button class=\"colab-df-convert\" onclick=\"convertToInteractive('df-4a7294ef-84e9-4713-946c-cacf74358bbf')\"\n",
              "            title=\"Convert this dataframe to an interactive table.\"\n",
              "            style=\"display:none;\">\n",
              "\n",
              "  <svg xmlns=\"http://www.w3.org/2000/svg\" height=\"24px\" viewBox=\"0 -960 960 960\">\n",
              "    <path d=\"M120-120v-720h720v720H120Zm60-500h600v-160H180v160Zm220 220h160v-160H400v160Zm0 220h160v-160H400v160ZM180-400h160v-160H180v160Zm440 0h160v-160H620v160ZM180-180h160v-160H180v160Zm440 0h160v-160H620v160Z\"/>\n",
              "  </svg>\n",
              "    </button>\n",
              "\n",
              "  <style>\n",
              "    .colab-df-container {\n",
              "      display:flex;\n",
              "      gap: 12px;\n",
              "    }\n",
              "\n",
              "    .colab-df-convert {\n",
              "      background-color: #E8F0FE;\n",
              "      border: none;\n",
              "      border-radius: 50%;\n",
              "      cursor: pointer;\n",
              "      display: none;\n",
              "      fill: #1967D2;\n",
              "      height: 32px;\n",
              "      padding: 0 0 0 0;\n",
              "      width: 32px;\n",
              "    }\n",
              "\n",
              "    .colab-df-convert:hover {\n",
              "      background-color: #E2EBFA;\n",
              "      box-shadow: 0px 1px 2px rgba(60, 64, 67, 0.3), 0px 1px 3px 1px rgba(60, 64, 67, 0.15);\n",
              "      fill: #174EA6;\n",
              "    }\n",
              "\n",
              "    .colab-df-buttons div {\n",
              "      margin-bottom: 4px;\n",
              "    }\n",
              "\n",
              "    [theme=dark] .colab-df-convert {\n",
              "      background-color: #3B4455;\n",
              "      fill: #D2E3FC;\n",
              "    }\n",
              "\n",
              "    [theme=dark] .colab-df-convert:hover {\n",
              "      background-color: #434B5C;\n",
              "      box-shadow: 0px 1px 3px 1px rgba(0, 0, 0, 0.15);\n",
              "      filter: drop-shadow(0px 1px 2px rgba(0, 0, 0, 0.3));\n",
              "      fill: #FFFFFF;\n",
              "    }\n",
              "  </style>\n",
              "\n",
              "    <script>\n",
              "      const buttonEl =\n",
              "        document.querySelector('#df-4a7294ef-84e9-4713-946c-cacf74358bbf button.colab-df-convert');\n",
              "      buttonEl.style.display =\n",
              "        google.colab.kernel.accessAllowed ? 'block' : 'none';\n",
              "\n",
              "      async function convertToInteractive(key) {\n",
              "        const element = document.querySelector('#df-4a7294ef-84e9-4713-946c-cacf74358bbf');\n",
              "        const dataTable =\n",
              "          await google.colab.kernel.invokeFunction('convertToInteractive',\n",
              "                                                    [key], {});\n",
              "        if (!dataTable) return;\n",
              "\n",
              "        const docLinkHtml = 'Like what you see? Visit the ' +\n",
              "          '<a target=\"_blank\" href=https://colab.research.google.com/notebooks/data_table.ipynb>data table notebook</a>'\n",
              "          + ' to learn more about interactive tables.';\n",
              "        element.innerHTML = '';\n",
              "        dataTable['output_type'] = 'display_data';\n",
              "        await google.colab.output.renderOutput(dataTable, element);\n",
              "        const docLink = document.createElement('div');\n",
              "        docLink.innerHTML = docLinkHtml;\n",
              "        element.appendChild(docLink);\n",
              "      }\n",
              "    </script>\n",
              "  </div>\n",
              "\n",
              "\n",
              "<div id=\"df-6adb9baf-d88f-4b51-9d00-dd69910c713e\">\n",
              "  <button class=\"colab-df-quickchart\" onclick=\"quickchart('df-6adb9baf-d88f-4b51-9d00-dd69910c713e')\"\n",
              "            title=\"Suggest charts\"\n",
              "            style=\"display:none;\">\n",
              "\n",
              "<svg xmlns=\"http://www.w3.org/2000/svg\" height=\"24px\"viewBox=\"0 0 24 24\"\n",
              "     width=\"24px\">\n",
              "    <g>\n",
              "        <path d=\"M19 3H5c-1.1 0-2 .9-2 2v14c0 1.1.9 2 2 2h14c1.1 0 2-.9 2-2V5c0-1.1-.9-2-2-2zM9 17H7v-7h2v7zm4 0h-2V7h2v10zm4 0h-2v-4h2v4z\"/>\n",
              "    </g>\n",
              "</svg>\n",
              "  </button>\n",
              "\n",
              "<style>\n",
              "  .colab-df-quickchart {\n",
              "      --bg-color: #E8F0FE;\n",
              "      --fill-color: #1967D2;\n",
              "      --hover-bg-color: #E2EBFA;\n",
              "      --hover-fill-color: #174EA6;\n",
              "      --disabled-fill-color: #AAA;\n",
              "      --disabled-bg-color: #DDD;\n",
              "  }\n",
              "\n",
              "  [theme=dark] .colab-df-quickchart {\n",
              "      --bg-color: #3B4455;\n",
              "      --fill-color: #D2E3FC;\n",
              "      --hover-bg-color: #434B5C;\n",
              "      --hover-fill-color: #FFFFFF;\n",
              "      --disabled-bg-color: #3B4455;\n",
              "      --disabled-fill-color: #666;\n",
              "  }\n",
              "\n",
              "  .colab-df-quickchart {\n",
              "    background-color: var(--bg-color);\n",
              "    border: none;\n",
              "    border-radius: 50%;\n",
              "    cursor: pointer;\n",
              "    display: none;\n",
              "    fill: var(--fill-color);\n",
              "    height: 32px;\n",
              "    padding: 0;\n",
              "    width: 32px;\n",
              "  }\n",
              "\n",
              "  .colab-df-quickchart:hover {\n",
              "    background-color: var(--hover-bg-color);\n",
              "    box-shadow: 0 1px 2px rgba(60, 64, 67, 0.3), 0 1px 3px 1px rgba(60, 64, 67, 0.15);\n",
              "    fill: var(--button-hover-fill-color);\n",
              "  }\n",
              "\n",
              "  .colab-df-quickchart-complete:disabled,\n",
              "  .colab-df-quickchart-complete:disabled:hover {\n",
              "    background-color: var(--disabled-bg-color);\n",
              "    fill: var(--disabled-fill-color);\n",
              "    box-shadow: none;\n",
              "  }\n",
              "\n",
              "  .colab-df-spinner {\n",
              "    border: 2px solid var(--fill-color);\n",
              "    border-color: transparent;\n",
              "    border-bottom-color: var(--fill-color);\n",
              "    animation:\n",
              "      spin 1s steps(1) infinite;\n",
              "  }\n",
              "\n",
              "  @keyframes spin {\n",
              "    0% {\n",
              "      border-color: transparent;\n",
              "      border-bottom-color: var(--fill-color);\n",
              "      border-left-color: var(--fill-color);\n",
              "    }\n",
              "    20% {\n",
              "      border-color: transparent;\n",
              "      border-left-color: var(--fill-color);\n",
              "      border-top-color: var(--fill-color);\n",
              "    }\n",
              "    30% {\n",
              "      border-color: transparent;\n",
              "      border-left-color: var(--fill-color);\n",
              "      border-top-color: var(--fill-color);\n",
              "      border-right-color: var(--fill-color);\n",
              "    }\n",
              "    40% {\n",
              "      border-color: transparent;\n",
              "      border-right-color: var(--fill-color);\n",
              "      border-top-color: var(--fill-color);\n",
              "    }\n",
              "    60% {\n",
              "      border-color: transparent;\n",
              "      border-right-color: var(--fill-color);\n",
              "    }\n",
              "    80% {\n",
              "      border-color: transparent;\n",
              "      border-right-color: var(--fill-color);\n",
              "      border-bottom-color: var(--fill-color);\n",
              "    }\n",
              "    90% {\n",
              "      border-color: transparent;\n",
              "      border-bottom-color: var(--fill-color);\n",
              "    }\n",
              "  }\n",
              "</style>\n",
              "\n",
              "  <script>\n",
              "    async function quickchart(key) {\n",
              "      const quickchartButtonEl =\n",
              "        document.querySelector('#' + key + ' button');\n",
              "      quickchartButtonEl.disabled = true;  // To prevent multiple clicks.\n",
              "      quickchartButtonEl.classList.add('colab-df-spinner');\n",
              "      try {\n",
              "        const charts = await google.colab.kernel.invokeFunction(\n",
              "            'suggestCharts', [key], {});\n",
              "      } catch (error) {\n",
              "        console.error('Error during call to suggestCharts:', error);\n",
              "      }\n",
              "      quickchartButtonEl.classList.remove('colab-df-spinner');\n",
              "      quickchartButtonEl.classList.add('colab-df-quickchart-complete');\n",
              "    }\n",
              "    (() => {\n",
              "      let quickchartButtonEl =\n",
              "        document.querySelector('#df-6adb9baf-d88f-4b51-9d00-dd69910c713e button');\n",
              "      quickchartButtonEl.style.display =\n",
              "        google.colab.kernel.accessAllowed ? 'block' : 'none';\n",
              "    })();\n",
              "  </script>\n",
              "</div>\n",
              "\n",
              "    </div>\n",
              "  </div>\n"
            ],
            "application/vnd.google.colaboratory.intrinsic+json": {
              "type": "dataframe",
              "summary": "{\n  \"name\": \"df_pandas\",\n  \"rows\": 8,\n  \"fields\": [\n    {\n      \"column\": \"Is An Alien\",\n      \"properties\": {\n        \"dtype\": \"int32\",\n        \"num_unique_values\": 2,\n        \"samples\": [\n          1,\n          0\n        ],\n        \"semantic_type\": \"\",\n        \"description\": \"\"\n      }\n    },\n    {\n      \"column\": \"Payment Method\",\n      \"properties\": {\n        \"dtype\": \"string\",\n        \"num_unique_values\": 4,\n        \"samples\": [\n          \"bank transfer\",\n          \"debit card\"\n        ],\n        \"semantic_type\": \"\",\n        \"description\": \"\"\n      }\n    },\n    {\n      \"column\": \"Transaction Amount\",\n      \"properties\": {\n        \"dtype\": \"number\",\n        \"std\": 167.37329345078308,\n        \"min\": 206.09774070543372,\n        \"max\": 550.3845930232558,\n        \"num_unique_values\": 8,\n        \"samples\": [\n          214.7512035566847,\n          550.3845930232558\n        ],\n        \"semantic_type\": \"\",\n        \"description\": \"\"\n      }\n    },\n    {\n      \"column\": \"Quantity\",\n      \"properties\": {\n        \"dtype\": \"number\",\n        \"std\": 0.07598435163612159,\n        \"min\": 2.957353402320477,\n        \"max\": 3.1867469879518073,\n        \"num_unique_values\": 8,\n        \"samples\": [\n          3.0012702445220705,\n          2.9651162790697674\n        ],\n        \"semantic_type\": \"\",\n        \"description\": \"\"\n      }\n    },\n    {\n      \"column\": \"Customer Age\",\n      \"properties\": {\n        \"dtype\": \"number\",\n        \"std\": 0.44838377506020516,\n        \"min\": 33.26553672316384,\n        \"max\": 34.70348837209303,\n        \"num_unique_values\": 8,\n        \"samples\": [\n          34.31279771355986,\n          34.70348837209303\n        ],\n        \"semantic_type\": \"\",\n        \"description\": \"\"\n      }\n    },\n    {\n      \"column\": \"Account Age Days\",\n      \"properties\": {\n        \"dtype\": \"number\",\n        \"std\": 34.73335668946373,\n        \"min\": 111.49418604651163,\n        \"max\": 183.26183666984429,\n        \"num_unique_values\": 8,\n        \"samples\": [\n          183.21149571292474,\n          111.49418604651163\n        ],\n        \"semantic_type\": \"\",\n        \"description\": \"\"\n      }\n    },\n    {\n      \"column\": \"Transaction Hour\",\n      \"properties\": {\n        \"dtype\": \"number\",\n        \"std\": 2.1007562853407844,\n        \"min\": 7.265060240963855,\n        \"max\": 11.639885677993014,\n        \"num_unique_values\": 8,\n        \"samples\": [\n          11.639885677993014,\n          7.401162790697675\n        ],\n        \"semantic_type\": \"\",\n        \"description\": \"\"\n      }\n    },\n    {\n      \"column\": \"Transaction bp\",\n      \"properties\": {\n        \"dtype\": \"number\",\n        \"std\": 11.649607120273021,\n        \"min\": 175.48590413531772,\n        \"max\": 200.34820862323912,\n        \"num_unique_values\": 8,\n        \"samples\": [\n          177.57797074600546,\n          198.29680355571892\n        ],\n        \"semantic_type\": \"\",\n        \"description\": \"\"\n      }\n    },\n    {\n      \"column\": \"Transaction Month\",\n      \"properties\": {\n        \"dtype\": \"number\",\n        \"std\": 0.2027613041844473,\n        \"min\": 6.0508474576271185,\n        \"max\": 6.726744186046512,\n        \"num_unique_values\": 8,\n        \"samples\": [\n          6.472213401079708,\n          6.726744186046512\n        ],\n        \"semantic_type\": \"\",\n        \"description\": \"\"\n      }\n    }\n  ]\n}"
            }
          },
          "metadata": {},
          "execution_count": 117
        }
      ]
    },
    {
      "cell_type": "code",
      "source": [
        "# 2\n",
        "px.bar(\n",
        "    df_pandas.groupby(['Is An Alien',\"Payment Method\"]).mean(\"Transaction Amount\").reset_index(),\n",
        "    x='Is An Alien',\n",
        "    y='Transaction Amount',\n",
        "    color = \"Payment Method\",\n",
        "    template='simple_white',\n",
        "    barmode='group'\n",
        ")"
      ],
      "metadata": {
        "colab": {
          "base_uri": "https://localhost:8080/",
          "height": 542
        },
        "id": "s7jRwtsffzlg",
        "outputId": "4493a821-ec41-4d5e-dad8-b3a72f3d871b"
      },
      "execution_count": null,
      "outputs": [
        {
          "output_type": "display_data",
          "data": {
            "text/html": [
              "<html>\n",
              "<head><meta charset=\"utf-8\" /></head>\n",
              "<body>\n",
              "    <div>            <script src=\"https://cdnjs.cloudflare.com/ajax/libs/mathjax/2.7.5/MathJax.js?config=TeX-AMS-MML_SVG\"></script><script type=\"text/javascript\">if (window.MathJax && window.MathJax.Hub && window.MathJax.Hub.Config) {window.MathJax.Hub.Config({SVG: {font: \"STIX-Web\"}});}</script>                <script type=\"text/javascript\">window.PlotlyConfig = {MathJaxConfig: 'local'};</script>\n",
              "        <script charset=\"utf-8\" src=\"https://cdn.plot.ly/plotly-2.31.1.min.js\"></script>                <div id=\"4865b909-173c-42e7-a283-a59bb2978329\" class=\"plotly-graph-div\" style=\"height:525px; width:100%;\"></div>            <script type=\"text/javascript\">                                    window.PLOTLYENV=window.PLOTLYENV || {};                                    if (document.getElementById(\"4865b909-173c-42e7-a283-a59bb2978329\")) {                    Plotly.newPlot(                        \"4865b909-173c-42e7-a283-a59bb2978329\",                        [{\"alignmentgroup\":\"True\",\"hovertemplate\":\"Payment Method=PayPal\\u003cbr\\u003eIs An Alien=%{x}\\u003cbr\\u003eTransaction Amount=%{y}\\u003cextra\\u003e\\u003c\\u002fextra\\u003e\",\"legendgroup\":\"PayPal\",\"marker\":{\"color\":\"#1F77B4\",\"pattern\":{\"shape\":\"\"}},\"name\":\"PayPal\",\"offsetgroup\":\"PayPal\",\"orientation\":\"v\",\"showlegend\":true,\"textposition\":\"auto\",\"x\":[0,1],\"xaxis\":\"x\",\"y\":[214.84261819367458,469.51776470588237],\"yaxis\":\"y\",\"type\":\"bar\"},{\"alignmentgroup\":\"True\",\"hovertemplate\":\"Payment Method=bank transfer\\u003cbr\\u003eIs An Alien=%{x}\\u003cbr\\u003eTransaction Amount=%{y}\\u003cextra\\u003e\\u003c\\u002fextra\\u003e\",\"legendgroup\":\"bank transfer\",\"marker\":{\"color\":\"#FF7F0E\",\"pattern\":{\"shape\":\"\"}},\"name\":\"bank transfer\",\"offsetgroup\":\"bank transfer\",\"orientation\":\"v\",\"showlegend\":true,\"textposition\":\"auto\",\"x\":[0,1],\"xaxis\":\"x\",\"y\":[214.7512035566847,550.3845930232558],\"yaxis\":\"y\",\"type\":\"bar\"},{\"alignmentgroup\":\"True\",\"hovertemplate\":\"Payment Method=credit card\\u003cbr\\u003eIs An Alien=%{x}\\u003cbr\\u003eTransaction Amount=%{y}\\u003cextra\\u003e\\u003c\\u002fextra\\u003e\",\"legendgroup\":\"credit card\",\"marker\":{\"color\":\"#2CA02C\",\"pattern\":{\"shape\":\"\"}},\"name\":\"credit card\",\"offsetgroup\":\"credit card\",\"orientation\":\"v\",\"showlegend\":true,\"textposition\":\"auto\",\"x\":[0,1],\"xaxis\":\"x\",\"y\":[206.09774070543372,520.4671686746988],\"yaxis\":\"y\",\"type\":\"bar\"},{\"alignmentgroup\":\"True\",\"hovertemplate\":\"Payment Method=debit card\\u003cbr\\u003eIs An Alien=%{x}\\u003cbr\\u003eTransaction Amount=%{y}\\u003cextra\\u003e\\u003c\\u002fextra\\u003e\",\"legendgroup\":\"debit card\",\"marker\":{\"color\":\"#D62728\",\"pattern\":{\"shape\":\"\"}},\"name\":\"debit card\",\"offsetgroup\":\"debit card\",\"orientation\":\"v\",\"showlegend\":true,\"textposition\":\"auto\",\"x\":[0,1],\"xaxis\":\"x\",\"y\":[215.66604264659767,549.4418644067796],\"yaxis\":\"y\",\"type\":\"bar\"}],                        {\"template\":{\"data\":{\"barpolar\":[{\"marker\":{\"line\":{\"color\":\"white\",\"width\":0.5},\"pattern\":{\"fillmode\":\"overlay\",\"size\":10,\"solidity\":0.2}},\"type\":\"barpolar\"}],\"bar\":[{\"error_x\":{\"color\":\"rgb(36,36,36)\"},\"error_y\":{\"color\":\"rgb(36,36,36)\"},\"marker\":{\"line\":{\"color\":\"white\",\"width\":0.5},\"pattern\":{\"fillmode\":\"overlay\",\"size\":10,\"solidity\":0.2}},\"type\":\"bar\"}],\"carpet\":[{\"aaxis\":{\"endlinecolor\":\"rgb(36,36,36)\",\"gridcolor\":\"white\",\"linecolor\":\"white\",\"minorgridcolor\":\"white\",\"startlinecolor\":\"rgb(36,36,36)\"},\"baxis\":{\"endlinecolor\":\"rgb(36,36,36)\",\"gridcolor\":\"white\",\"linecolor\":\"white\",\"minorgridcolor\":\"white\",\"startlinecolor\":\"rgb(36,36,36)\"},\"type\":\"carpet\"}],\"choropleth\":[{\"colorbar\":{\"outlinewidth\":1,\"tickcolor\":\"rgb(36,36,36)\",\"ticks\":\"outside\"},\"type\":\"choropleth\"}],\"contourcarpet\":[{\"colorbar\":{\"outlinewidth\":1,\"tickcolor\":\"rgb(36,36,36)\",\"ticks\":\"outside\"},\"type\":\"contourcarpet\"}],\"contour\":[{\"colorbar\":{\"outlinewidth\":1,\"tickcolor\":\"rgb(36,36,36)\",\"ticks\":\"outside\"},\"colorscale\":[[0.0,\"#440154\"],[0.1111111111111111,\"#482878\"],[0.2222222222222222,\"#3e4989\"],[0.3333333333333333,\"#31688e\"],[0.4444444444444444,\"#26828e\"],[0.5555555555555556,\"#1f9e89\"],[0.6666666666666666,\"#35b779\"],[0.7777777777777778,\"#6ece58\"],[0.8888888888888888,\"#b5de2b\"],[1.0,\"#fde725\"]],\"type\":\"contour\"}],\"heatmapgl\":[{\"colorbar\":{\"outlinewidth\":1,\"tickcolor\":\"rgb(36,36,36)\",\"ticks\":\"outside\"},\"colorscale\":[[0.0,\"#440154\"],[0.1111111111111111,\"#482878\"],[0.2222222222222222,\"#3e4989\"],[0.3333333333333333,\"#31688e\"],[0.4444444444444444,\"#26828e\"],[0.5555555555555556,\"#1f9e89\"],[0.6666666666666666,\"#35b779\"],[0.7777777777777778,\"#6ece58\"],[0.8888888888888888,\"#b5de2b\"],[1.0,\"#fde725\"]],\"type\":\"heatmapgl\"}],\"heatmap\":[{\"colorbar\":{\"outlinewidth\":1,\"tickcolor\":\"rgb(36,36,36)\",\"ticks\":\"outside\"},\"colorscale\":[[0.0,\"#440154\"],[0.1111111111111111,\"#482878\"],[0.2222222222222222,\"#3e4989\"],[0.3333333333333333,\"#31688e\"],[0.4444444444444444,\"#26828e\"],[0.5555555555555556,\"#1f9e89\"],[0.6666666666666666,\"#35b779\"],[0.7777777777777778,\"#6ece58\"],[0.8888888888888888,\"#b5de2b\"],[1.0,\"#fde725\"]],\"type\":\"heatmap\"}],\"histogram2dcontour\":[{\"colorbar\":{\"outlinewidth\":1,\"tickcolor\":\"rgb(36,36,36)\",\"ticks\":\"outside\"},\"colorscale\":[[0.0,\"#440154\"],[0.1111111111111111,\"#482878\"],[0.2222222222222222,\"#3e4989\"],[0.3333333333333333,\"#31688e\"],[0.4444444444444444,\"#26828e\"],[0.5555555555555556,\"#1f9e89\"],[0.6666666666666666,\"#35b779\"],[0.7777777777777778,\"#6ece58\"],[0.8888888888888888,\"#b5de2b\"],[1.0,\"#fde725\"]],\"type\":\"histogram2dcontour\"}],\"histogram2d\":[{\"colorbar\":{\"outlinewidth\":1,\"tickcolor\":\"rgb(36,36,36)\",\"ticks\":\"outside\"},\"colorscale\":[[0.0,\"#440154\"],[0.1111111111111111,\"#482878\"],[0.2222222222222222,\"#3e4989\"],[0.3333333333333333,\"#31688e\"],[0.4444444444444444,\"#26828e\"],[0.5555555555555556,\"#1f9e89\"],[0.6666666666666666,\"#35b779\"],[0.7777777777777778,\"#6ece58\"],[0.8888888888888888,\"#b5de2b\"],[1.0,\"#fde725\"]],\"type\":\"histogram2d\"}],\"histogram\":[{\"marker\":{\"line\":{\"color\":\"white\",\"width\":0.6}},\"type\":\"histogram\"}],\"mesh3d\":[{\"colorbar\":{\"outlinewidth\":1,\"tickcolor\":\"rgb(36,36,36)\",\"ticks\":\"outside\"},\"type\":\"mesh3d\"}],\"parcoords\":[{\"line\":{\"colorbar\":{\"outlinewidth\":1,\"tickcolor\":\"rgb(36,36,36)\",\"ticks\":\"outside\"}},\"type\":\"parcoords\"}],\"pie\":[{\"automargin\":true,\"type\":\"pie\"}],\"scatter3d\":[{\"line\":{\"colorbar\":{\"outlinewidth\":1,\"tickcolor\":\"rgb(36,36,36)\",\"ticks\":\"outside\"}},\"marker\":{\"colorbar\":{\"outlinewidth\":1,\"tickcolor\":\"rgb(36,36,36)\",\"ticks\":\"outside\"}},\"type\":\"scatter3d\"}],\"scattercarpet\":[{\"marker\":{\"colorbar\":{\"outlinewidth\":1,\"tickcolor\":\"rgb(36,36,36)\",\"ticks\":\"outside\"}},\"type\":\"scattercarpet\"}],\"scattergeo\":[{\"marker\":{\"colorbar\":{\"outlinewidth\":1,\"tickcolor\":\"rgb(36,36,36)\",\"ticks\":\"outside\"}},\"type\":\"scattergeo\"}],\"scattergl\":[{\"marker\":{\"colorbar\":{\"outlinewidth\":1,\"tickcolor\":\"rgb(36,36,36)\",\"ticks\":\"outside\"}},\"type\":\"scattergl\"}],\"scattermapbox\":[{\"marker\":{\"colorbar\":{\"outlinewidth\":1,\"tickcolor\":\"rgb(36,36,36)\",\"ticks\":\"outside\"}},\"type\":\"scattermapbox\"}],\"scatterpolargl\":[{\"marker\":{\"colorbar\":{\"outlinewidth\":1,\"tickcolor\":\"rgb(36,36,36)\",\"ticks\":\"outside\"}},\"type\":\"scatterpolargl\"}],\"scatterpolar\":[{\"marker\":{\"colorbar\":{\"outlinewidth\":1,\"tickcolor\":\"rgb(36,36,36)\",\"ticks\":\"outside\"}},\"type\":\"scatterpolar\"}],\"scatter\":[{\"fillpattern\":{\"fillmode\":\"overlay\",\"size\":10,\"solidity\":0.2},\"type\":\"scatter\"}],\"scatterternary\":[{\"marker\":{\"colorbar\":{\"outlinewidth\":1,\"tickcolor\":\"rgb(36,36,36)\",\"ticks\":\"outside\"}},\"type\":\"scatterternary\"}],\"surface\":[{\"colorbar\":{\"outlinewidth\":1,\"tickcolor\":\"rgb(36,36,36)\",\"ticks\":\"outside\"},\"colorscale\":[[0.0,\"#440154\"],[0.1111111111111111,\"#482878\"],[0.2222222222222222,\"#3e4989\"],[0.3333333333333333,\"#31688e\"],[0.4444444444444444,\"#26828e\"],[0.5555555555555556,\"#1f9e89\"],[0.6666666666666666,\"#35b779\"],[0.7777777777777778,\"#6ece58\"],[0.8888888888888888,\"#b5de2b\"],[1.0,\"#fde725\"]],\"type\":\"surface\"}],\"table\":[{\"cells\":{\"fill\":{\"color\":\"rgb(237,237,237)\"},\"line\":{\"color\":\"white\"}},\"header\":{\"fill\":{\"color\":\"rgb(217,217,217)\"},\"line\":{\"color\":\"white\"}},\"type\":\"table\"}]},\"layout\":{\"annotationdefaults\":{\"arrowhead\":0,\"arrowwidth\":1},\"autotypenumbers\":\"strict\",\"coloraxis\":{\"colorbar\":{\"outlinewidth\":1,\"tickcolor\":\"rgb(36,36,36)\",\"ticks\":\"outside\"}},\"colorscale\":{\"diverging\":[[0.0,\"rgb(103,0,31)\"],[0.1,\"rgb(178,24,43)\"],[0.2,\"rgb(214,96,77)\"],[0.3,\"rgb(244,165,130)\"],[0.4,\"rgb(253,219,199)\"],[0.5,\"rgb(247,247,247)\"],[0.6,\"rgb(209,229,240)\"],[0.7,\"rgb(146,197,222)\"],[0.8,\"rgb(67,147,195)\"],[0.9,\"rgb(33,102,172)\"],[1.0,\"rgb(5,48,97)\"]],\"sequential\":[[0.0,\"#440154\"],[0.1111111111111111,\"#482878\"],[0.2222222222222222,\"#3e4989\"],[0.3333333333333333,\"#31688e\"],[0.4444444444444444,\"#26828e\"],[0.5555555555555556,\"#1f9e89\"],[0.6666666666666666,\"#35b779\"],[0.7777777777777778,\"#6ece58\"],[0.8888888888888888,\"#b5de2b\"],[1.0,\"#fde725\"]],\"sequentialminus\":[[0.0,\"#440154\"],[0.1111111111111111,\"#482878\"],[0.2222222222222222,\"#3e4989\"],[0.3333333333333333,\"#31688e\"],[0.4444444444444444,\"#26828e\"],[0.5555555555555556,\"#1f9e89\"],[0.6666666666666666,\"#35b779\"],[0.7777777777777778,\"#6ece58\"],[0.8888888888888888,\"#b5de2b\"],[1.0,\"#fde725\"]]},\"colorway\":[\"#1F77B4\",\"#FF7F0E\",\"#2CA02C\",\"#D62728\",\"#9467BD\",\"#8C564B\",\"#E377C2\",\"#7F7F7F\",\"#BCBD22\",\"#17BECF\"],\"font\":{\"color\":\"rgb(36,36,36)\"},\"geo\":{\"bgcolor\":\"white\",\"lakecolor\":\"white\",\"landcolor\":\"white\",\"showlakes\":true,\"showland\":true,\"subunitcolor\":\"white\"},\"hoverlabel\":{\"align\":\"left\"},\"hovermode\":\"closest\",\"mapbox\":{\"style\":\"light\"},\"paper_bgcolor\":\"white\",\"plot_bgcolor\":\"white\",\"polar\":{\"angularaxis\":{\"gridcolor\":\"rgb(232,232,232)\",\"linecolor\":\"rgb(36,36,36)\",\"showgrid\":false,\"showline\":true,\"ticks\":\"outside\"},\"bgcolor\":\"white\",\"radialaxis\":{\"gridcolor\":\"rgb(232,232,232)\",\"linecolor\":\"rgb(36,36,36)\",\"showgrid\":false,\"showline\":true,\"ticks\":\"outside\"}},\"scene\":{\"xaxis\":{\"backgroundcolor\":\"white\",\"gridcolor\":\"rgb(232,232,232)\",\"gridwidth\":2,\"linecolor\":\"rgb(36,36,36)\",\"showbackground\":true,\"showgrid\":false,\"showline\":true,\"ticks\":\"outside\",\"zeroline\":false,\"zerolinecolor\":\"rgb(36,36,36)\"},\"yaxis\":{\"backgroundcolor\":\"white\",\"gridcolor\":\"rgb(232,232,232)\",\"gridwidth\":2,\"linecolor\":\"rgb(36,36,36)\",\"showbackground\":true,\"showgrid\":false,\"showline\":true,\"ticks\":\"outside\",\"zeroline\":false,\"zerolinecolor\":\"rgb(36,36,36)\"},\"zaxis\":{\"backgroundcolor\":\"white\",\"gridcolor\":\"rgb(232,232,232)\",\"gridwidth\":2,\"linecolor\":\"rgb(36,36,36)\",\"showbackground\":true,\"showgrid\":false,\"showline\":true,\"ticks\":\"outside\",\"zeroline\":false,\"zerolinecolor\":\"rgb(36,36,36)\"}},\"shapedefaults\":{\"fillcolor\":\"black\",\"line\":{\"width\":0},\"opacity\":0.3},\"ternary\":{\"aaxis\":{\"gridcolor\":\"rgb(232,232,232)\",\"linecolor\":\"rgb(36,36,36)\",\"showgrid\":false,\"showline\":true,\"ticks\":\"outside\"},\"baxis\":{\"gridcolor\":\"rgb(232,232,232)\",\"linecolor\":\"rgb(36,36,36)\",\"showgrid\":false,\"showline\":true,\"ticks\":\"outside\"},\"bgcolor\":\"white\",\"caxis\":{\"gridcolor\":\"rgb(232,232,232)\",\"linecolor\":\"rgb(36,36,36)\",\"showgrid\":false,\"showline\":true,\"ticks\":\"outside\"}},\"title\":{\"x\":0.05},\"xaxis\":{\"automargin\":true,\"gridcolor\":\"rgb(232,232,232)\",\"linecolor\":\"rgb(36,36,36)\",\"showgrid\":false,\"showline\":true,\"ticks\":\"outside\",\"title\":{\"standoff\":15},\"zeroline\":false,\"zerolinecolor\":\"rgb(36,36,36)\"},\"yaxis\":{\"automargin\":true,\"gridcolor\":\"rgb(232,232,232)\",\"linecolor\":\"rgb(36,36,36)\",\"showgrid\":false,\"showline\":true,\"ticks\":\"outside\",\"title\":{\"standoff\":15},\"zeroline\":false,\"zerolinecolor\":\"rgb(36,36,36)\"}}},\"xaxis\":{\"anchor\":\"y\",\"domain\":[0.0,1.0],\"title\":{\"text\":\"Is An Alien\"}},\"yaxis\":{\"anchor\":\"x\",\"domain\":[0.0,1.0],\"title\":{\"text\":\"Transaction Amount\"}},\"legend\":{\"title\":{\"text\":\"Payment Method\"},\"tracegroupgap\":0},\"margin\":{\"t\":60},\"barmode\":\"group\"},                        {\"responsive\": true}                    ).then(function(){\n",
              "                            \n",
              "var gd = document.getElementById('4865b909-173c-42e7-a283-a59bb2978329');\n",
              "var x = new MutationObserver(function (mutations, observer) {{\n",
              "        var display = window.getComputedStyle(gd).display;\n",
              "        if (!display || display === 'none') {{\n",
              "            console.log([gd, 'removed!']);\n",
              "            Plotly.purge(gd);\n",
              "            observer.disconnect();\n",
              "        }}\n",
              "}});\n",
              "\n",
              "// Listen for the removal of the full notebook cells\n",
              "var notebookContainer = gd.closest('#notebook-container');\n",
              "if (notebookContainer) {{\n",
              "    x.observe(notebookContainer, {childList: true});\n",
              "}}\n",
              "\n",
              "// Listen for the clearing of the current output cell\n",
              "var outputEl = gd.closest('.output');\n",
              "if (outputEl) {{\n",
              "    x.observe(outputEl, {childList: true});\n",
              "}}\n",
              "\n",
              "                        })                };                            </script>        </div>\n",
              "</body>\n",
              "</html>"
            ]
          },
          "metadata": {}
        }
      ]
    },
    {
      "cell_type": "markdown",
      "source": [
        "### 5. Particiones y consultas en SQL [6 puntos]\n",
        "(2 puntos por pregunta)"
      ],
      "metadata": {
        "id": "97zN2_g4vgY6"
      }
    },
    {
      "cell_type": "markdown",
      "source": [
        "<center>\n",
        "<img src=\"https://gitlab.com/imezadelajara/datos_clase_7_mds7202/-/raw/main/misc_images/1696330143457.gif\" width=400 />"
      ],
      "metadata": {
        "id": "viNvNuE_odgc"
      }
    },
    {
      "cell_type": "markdown",
      "source": [
        "El equipo de Bodoque e-shop ha solicitado que los datos estén disponibles en una tabla SQL consultable. Además, están interesados en aprovechar las funciones de ventana en SQL para análisis avanzados. Las funciones de ventana permiten realizar cálculos sobre un conjunto de filas que están relacionadas con la fila actual. Por ejemplo, UNBOUNDED PRECEDING se usa para indicar que el rango de la función de ventana comienza desde la primera fila de la partición o del conjunto de resultados, lo cual es útil para calcular sumas acumulativas hasta la fila actual. Las variaciones comunes de este uso incluyen:\n",
        "\n",
        "- `UNBOUNDED PRECEDING` to `CURRENT ROW`: Calcula desde el inicio de la partición hasta la fila actual.\n",
        "- `UNBOUNDED PRECEDING` to `UNBOUNDED FOLLOWING`: Cubre todas las filas dentro de la partición.\n",
        "- `VALUE PRECEDING` to `VALUE FOLLOWING`: Establece un rango específico basado en valores antes y después de la fila actual."
      ],
      "metadata": {
        "id": "SCdHwyGBwVx8"
      }
    },
    {
      "cell_type": "markdown",
      "source": [
        "<center>\n",
        "<img src=\"https://learnsql.com/blog/sql-window-functions-rows-clause/1.png\" width=500 />"
      ],
      "metadata": {
        "id": "VntjejKLleIa"
      }
    },
    {
      "cell_type": "markdown",
      "source": [
        "Ejemplo de uso en SQL:\n",
        "\n",
        "```sql\n",
        "STAT(COL1_NAME) OVER (PARTITION BY COL2_NAME ORDER BY COL3_NAME ROWS BETWEEN X PRECEDING AND CURRENT ROW)\n",
        "```\n",
        "\n",
        "\n",
        "Responda y realice los siguientes puntos:\n",
        "\n",
        "1. **Creación de Tabla con PySpark**:\n",
        "   - Desarrolle un script utilizando PySpark para crear una tabla a partir de un DataFrame previamente transformado. Seleccione y utilice una variable específica para la partición de la tabla. Justifique su elección de esta variable considerando factores como el tamaño del DataFrame, la distribución de los datos y el impacto potencial en el rendimiento de futuras consultas.\n",
        "\n",
        "2. **Consulta SQL para Principales Clientes**:\n",
        "   - Ejecute una consulta SQL para identificar los 10 clientes que más productos han comprado. La consulta debe retornar el ID del cliente junto con el total de productos comprados, ordenados en forma descendente.\n",
        "\n",
        "3. **Implementación de Función de Ventana en SQL y Equivalente en Spark**:\n",
        "   - Implemente una función de ventana en SQL para calcular la compra más alta realizada por cada usuario en los últimos tres meses. Además, describa cómo se podría realizar una función equivalente en Spark, considerando las capacidades específicas de PySpark para manejar este tipo de consultas.\n",
        "\n"
      ],
      "metadata": {
        "id": "D8XJ7NrPllKG"
      }
    },
    {
      "cell_type": "markdown",
      "source": [
        "\n",
        "### Respuestas\n",
        "1. En este caso se decidió hacer la partición de la tabla utilizando de columna referencia el Customer ID, pues es lo que hace más sentido al hacer consultas: el consultar haciendo referencia a quien hizo la transacción, pudiendo así ayudar a la optimización de estas. Además, esto se puede distribuir fácilmente haciendo algún hashing sobre el dígito de más a la derecha en hexadecimal de esta variable, pues por el gráfico visto abajo, cada dígito tiene más o menos la misma cantidad de ID customers asociados. En ese sentido se particiona en 16 particiones con alrededor de 800 datos cada una.\n"
      ],
      "metadata": {
        "id": "-rvVVlacV1XT"
      }
    },
    {
      "cell_type": "code",
      "source": [
        "def ultimo_digito(df):\n",
        "  lista_hexa = [hex(k)[-1]+\"%\" for k in range(16)]\n",
        "  cantidades = {}\n",
        "  for i in range(len(lista_hexa)):\n",
        "    cantidades[lista_hexa[i]] = df.filter(df_lab[\"Customer ID\"].like(lista_hexa[i])).count()\n",
        "  return cantidades"
      ],
      "metadata": {
        "id": "EJv7-2MDUvZH"
      },
      "execution_count": 21,
      "outputs": []
    },
    {
      "cell_type": "code",
      "source": [
        "ultimo_digito_df = ultimo_digito(df_lab)"
      ],
      "metadata": {
        "id": "VrFb05fDY5Cy"
      },
      "execution_count": 22,
      "outputs": []
    },
    {
      "cell_type": "code",
      "source": [
        "plt.bar(ultimo_digito_df.keys(),ultimo_digito_df.values())\n",
        "plt.suptitle(\"Conteo de comienzos de ID Customer\")"
      ],
      "metadata": {
        "colab": {
          "base_uri": "https://localhost:8080/",
          "height": 495
        },
        "id": "_neMQBzzaAuS",
        "outputId": "6ea8db0b-11a6-418c-e0c6-5157470f4746"
      },
      "execution_count": 25,
      "outputs": [
        {
          "output_type": "execute_result",
          "data": {
            "text/plain": [
              "Text(0.5, 0.98, 'Conteo de comienzos de ID Customer')"
            ]
          },
          "metadata": {},
          "execution_count": 25
        },
        {
          "output_type": "display_data",
          "data": {
            "text/plain": [
              "<Figure size 640x480 with 1 Axes>"
            ],
            "image/png": "[encoded data removed]"
          },
          "metadata": {}
        }
      ]
    },
    {
      "cell_type": "code",
      "source": [
        "df_lab.coalesce(16).write.partitionBy(\"Customer ID\").saveAsTable(name='P5_16p')"
      ],
      "metadata": {
        "id": "QkAnOgTRXfK3"
      },
      "execution_count": 72,
      "outputs": []
    },
    {
      "cell_type": "markdown",
      "source": [
        "2. **Consulta SQL para Principales Clientes**:"
      ],
      "metadata": {
        "id": "tU3ZStQWUbUR"
      }
    },
    {
      "cell_type": "markdown",
      "source": [
        "La consulta es como sigue:\n",
        "\n",
        "\n",
        "```{SQL}\n",
        "SELECT Customer ID ,COUNT(Transaction ID) as Conteo_Compras\n",
        "FROM P5_16p\n",
        "GROUP BY Customer ID\n",
        "ORDER BY Conteo_Compras DESC LIMIT 10\n",
        "```\n",
        "\n",
        "\n",
        "A continuación se prueba:"
      ],
      "metadata": {
        "id": "Qi7uGvf7kcpV"
      }
    },
    {
      "cell_type": "code",
      "source": [
        "sparksession.sql(\"SELECT {0} ,COUNT({2}) as Conteo_Compras FROM P5_16p GROUP BY {1} ORDER BY Conteo_Compras DESC LIMIT 10\".format(\"`Customer ID`\",\"`Customer ID`\",\"`Transaction ID`\")).show()"
      ],
      "metadata": {
        "colab": {
          "base_uri": "https://localhost:8080/"
        },
        "id": "5CgBqy3JUUSg",
        "outputId": "174acfab-2f7a-400f-89a5-d8de34612661"
      },
      "execution_count": 82,
      "outputs": [
        {
          "output_type": "stream",
          "name": "stdout",
          "text": [
            "+--------------------+--------------+\n",
            "|         Customer ID|Conteo_Compras|\n",
            "+--------------------+--------------+\n",
            "|fc5e4b5a-11e3-4ab...|             1|\n",
            "|1e319288-655e-497...|             1|\n",
            "|295b66aa-3356-48f...|             1|\n",
            "|74d7d2d1-9dad-433...|             1|\n",
            "|fe1c12b4-a0ee-42e...|             1|\n",
            "|31709f25-8ef6-434...|             1|\n",
            "|c775f99e-de4b-405...|             1|\n",
            "|61c97fd8-9572-4f3...|             1|\n",
            "|60faae1f-f306-486...|             1|\n",
            "|7a34321a-3dac-4b6...|             1|\n",
            "+--------------------+--------------+\n",
            "\n"
          ]
        }
      ]
    },
    {
      "cell_type": "markdown",
      "source": [
        "3 . **Implementación de Función de Ventana en SQL y Equivalente en Spark**\n"
      ],
      "metadata": {
        "id": "wQpvoexnds2Y"
      }
    },
    {
      "cell_type": "markdown",
      "source": [
        "La Querie sería algo como lo que sigue:\n",
        "\n",
        "\n",
        "```{SQL}\n",
        "SELECT Customer ID, Transaction Amount\n",
        "FROM (SELECT Customer ID, Transaction Amount, ROW_NUMBER() OVER (PARTITION BY Customer ID ORDER BY Transaction Amount DESC) AS r\n",
        "      FROM p5_16p\n",
        "      WHERE TIMESTAMPDIFF(MONTH,Transaction Month,NOW()) <=3) AS\n",
        "WHERE r = 1;\n",
        "```\n",
        "Esto se podría implementar en pyspark, primero filtrando con el timestampdiff, luego para el df resultante, agregando una columna r donde se lleve el orden de compra según el Transaction Amount para cada Customer ID. Luego la querie es simplemente hacer un .filter con r=1.\n",
        "\n"
      ],
      "metadata": {
        "id": "HmHTA1CbjS3U"
      }
    },
    {
      "cell_type": "markdown",
      "source": [
        "### 6. UDF [10 puntos]\n",
        "(2 por pregunta)"
      ],
      "metadata": {
        "id": "AKQs-augfZBv"
      }
    },
    {
      "cell_type": "markdown",
      "source": [
        "<center>\n",
        "<img src=\"https://64.media.tumblr.com/ba8c705edd2bed0a28d9458811155d69/tumblr_pap19zg4ae1w3zg6go1_400.gifv\" width=400 />"
      ],
      "metadata": {
        "id": "ovDBGi-uhhdD"
      }
    },
    {
      "cell_type": "markdown",
      "source": [
        "\n",
        "\n",
        "Un experto en predicciones y programación le ha proporcionado un objeto serializado (`pickle`) diseñado para calcular las probabilidades de que un cliente cometa o no un fraude. Este experto sugiere que, para maximizar las capacidades de procesamiento distribuido de Spark, debería implementar `Scalar User Defined Functions` (udf). Esto le permitirá aplicar el objeto serializado en un entorno distribuido a lo largo de toda la población de datos. Un aspecto clave de la función desarrollada por el experto es que se enfoca exclusivamente en las siguientes columnas para realizar las predicciones: `['Transaction Amount', 'Quantity', 'Customer Age', 'Transaction Hour']`.\n",
        "\n",
        "Aparte, el experto le proporciona las siguientes instrucciones para usar las UDF en Spark:\n",
        "\n",
        "```python\n",
        "from pyspark.sql.functions import udf\n",
        "from pyspark.sql.types import FloatType\n",
        "\n",
        "def custom_function(col):\n",
        "    pass\n",
        "\n",
        "udf_function = udf(custom_function, FloatType())\n",
        "```\n",
        "\n",
        "Basándose en la estructura proporcionada, debe desarrollar una función que ejecute un código específico. Tenga en cuenta que esta función solo puede recibir columnas de Spark y debe retornar el valor deseado. Posteriormente, deberá utilizar esta función UDF indicando la función personalizada y el formato de salida.\n",
        "\n",
        "Siga los siguientes pasos para implementar la solución y responda las preguntas:\n",
        "\n",
        "1. **Cargar el objeto serializado**: Revise el tipo de objeto y deduzca su función.\n",
        "2. **Explorar el objeto**: Utilice las funciones `dir` y `help` para identificar qué método del objeto predice la probabilidad.\n",
        "3. **Crear una función personalizada**: Elabore una función que prediga la probabilidad de fraude utilizando el último valor de la lista generada por el objeto serializado. Puede modificar el nombre de la función para reflejar su propósito.\n",
        "4. **Definir la función UDF**: Establezca la función UDF con la función personalizada que ha creado.\n",
        "5. **Generar una nueva columna**: Añada una nueva columna `prediction` a su DataFrame en Spark utilizando la función UDF y muestre un ejemplo de cómo se aplica. ¿Qué beneficios podría generar utilizar udf?"
      ],
      "metadata": {
        "id": "TJUUnpi8qKHD"
      }
    },
    {
      "cell_type": "code",
      "source": [
        "# Código Aquí"
      ],
      "metadata": {
        "id": "bPJVs2OBezN_"
      },
      "execution_count": null,
      "outputs": []
    }
  ]
}