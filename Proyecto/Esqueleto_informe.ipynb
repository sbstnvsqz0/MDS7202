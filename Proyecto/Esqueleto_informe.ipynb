{
 "cells": [
  {
   "cell_type": "markdown",
   "metadata": {
    "cell_id": "9dca4283f3af47d1a58929dd151990f2",
    "deepnote_app_block_visible": true,
    "deepnote_cell_type": "markdown"
   },
   "source": [
    "![](https://www.dii.uchile.cl/wp-content/uploads/2021/06/Magi%CC%81ster-en-Ciencia-de-Datos.png)"
   ]
  },
  {
   "cell_type": "markdown",
   "metadata": {
    "cell_id": "e76db09488784991a97ba3792ed07c7f",
    "deepnote_app_block_visible": true,
    "deepnote_cell_type": "markdown"
   },
   "source": [
    "# Proyecto: \n",
    "\n",
    "**MDS7202: Laboratorio de Programación Científica para Ciencia de Datos**\n",
    "\n",
    "### Cuerpo Docente:\n",
    "\n",
    "- Profesor: Ignacio Meza De La Jara, Sebastián Tinoco\n",
    "- Auxiliar: Catherine Benavides, Consuelo Rojas\n",
    "- Ayudante: Eduardo Moya, Nicolás Ojeda\n"
   ]
  },
  {
   "cell_type": "markdown",
   "metadata": {
    "cell_id": "7342dd765fef446ba17562890a769ce4",
    "deepnote_app_block_visible": true,
    "deepnote_cell_type": "text-cell-h1",
    "formattedRanges": []
   },
   "source": [
    "# Motivación"
   ]
  },
  {
   "cell_type": "markdown",
   "metadata": {
    "cell_id": "e132190981204c3da866568ebd25a8a6",
    "deepnote_app_block_visible": true,
    "deepnote_cell_type": "markdown"
   },
   "source": [
    "## De la Sombra a la Luz: El Legado de la Familia Mancini\n",
    "\n",
    "En la oscura ciudad de Noirville, un banco ha sido conocido durante años como un centro de operaciones de la mafia. Bajo la dirección del infame Don Vittorio \"El Zorro\" Mancini, el banco prosperó, pero su reputación quedó manchada por actividades ilícitas y operaciones fraudulentas. Sin embargo, el curso de los acontecimientos cambió radicalmente cuando Don Vittorio falleció, dejando el banco en manos de su hijo, Marco Mancini.\n",
    "\n",
    "Marco, un joven ambicioso con una visión diferente, se ha propuesto limpiar la reputación del banco y convertirlo en una institución legítima y respetada. Para lograrlo, necesita identificar y eliminar a todos los clientes con un pasado fraudulento que todavía utilizan el banco para sus actividades criminales.\n",
    "\n",
    "Es así como ustedes entran a participar en un concurso de ML creado por Marco, creando un modelo de aprendizaje automático (ML) con el cual puedan identificar los casos fraudulentos. Esta es su oportunidad de demostrar sus habilidades y ayudar a Marco Mancini a transformar el legado de su familia, llevando al banco a una nueva era. \n"
   ]
  },
  {
   "cell_type": "markdown",
   "metadata": {
    "cell_id": "413cfad8b1694318b28dd7e8999e286d",
    "deepnote_app_block_visible": true,
    "deepnote_cell_type": "markdown"
   },
   "source": [
    "## 1. Introducción [0.25 puntos]\n",
    "\n"
   ]
  },
  {
   "cell_type": "markdown",
   "metadata": {},
   "source": [
    "- Describir brevemente el problema planteado ¿Qué se intenta predecir?\n",
    "- Describir brevemente los datos de entrada que les provee el problema.\n",
    "- Describir las métricas que utilizarán para evaluar los modelos generados. Elijan una métrica adecuada para el desarrollo del\n",
    "proyecto según la tarea que deben resolver y la institución a la cuál será su contraparte y luego justifiquen su elección.\n",
    "- Considerando que los datos presentan desbalanceo y que el uso de la métrica 'accuracy' sería incorrecto, enfoquen su\n",
    "elección en una de las métricas precision, recall o f1-score y en la clase que será evaluada.\n",
    "- Escribir al final] Describir brevemente los modelos que usaron para resolver el problema (incluyendo las transformaciones\n",
    "intermedias de datos).\n",
    "- Escribir al final] Indicar si lograron resolver el problema a través de su modelo final. Indiquen además si creen que los\n",
    "resultados de su mejor modelo son aceptables y como les fue con respecto al resto de los equipos"
   ]
  },
  {
   "cell_type": "code",
   "execution_count": null,
   "metadata": {
    "cell_id": "508c149425654fec9471573fb409170c",
    "deepnote_app_block_visible": true,
    "deepnote_cell_type": "code"
   },
   "outputs": [],
   "source": []
  },
  {
   "cell_type": "markdown",
   "metadata": {
    "cell_id": "5b35ee0d0c4744e198ff42d20975705b",
    "deepnote_app_block_visible": true,
    "deepnote_cell_type": "markdown"
   },
   "source": [
    "## 2. Modelos de Scikit Learn\n",
    "### 2.1 Análisis Exploratorio de Datos [0.5 puntos]\n"
   ]
  },
  {
   "cell_type": "markdown",
   "metadata": {},
   "source": [
    "Se hacen los imports para esta parte:"
   ]
  },
  {
   "cell_type": "code",
   "execution_count": null,
   "metadata": {},
   "outputs": [],
   "source": [
    "import pandas as pd\n",
    "from utils import discrete_graph, cont_graph, exploratory_data_analysis, show_corr"
   ]
  },
  {
   "cell_type": "markdown",
   "metadata": {},
   "source": [
    "A continuación se lee la data"
   ]
  },
  {
   "cell_type": "code",
   "execution_count": null,
   "metadata": {},
   "outputs": [],
   "source": [
    "X_t0 = pd.read_csv(r\"X_t0\")\n",
    "y_t0 = pd.read_csv(r\"y_t0\")\n",
    "X_t1 = pd.read_csv(r\"X_t1\")"
   ]
  },
  {
   "cell_type": "markdown",
   "metadata": {},
   "source": [
    "Se resumen los dataframes con features: "
   ]
  },
  {
   "cell_type": "code",
   "execution_count": null,
   "metadata": {},
   "outputs": [],
   "source": [
    "exploratory_data_analysis(X_t0)"
   ]
  },
  {
   "cell_type": "code",
   "execution_count": null,
   "metadata": {},
   "outputs": [],
   "source": [
    "exploratory_data_analysis(X_t1)"
   ]
  },
  {
   "cell_type": "markdown",
   "metadata": {},
   "source": [
    "Se muestran correlaciones:"
   ]
  },
  {
   "cell_type": "code",
   "execution_count": null,
   "metadata": {},
   "outputs": [],
   "source": [
    "show_corr(X_t0)"
   ]
  },
  {
   "cell_type": "code",
   "execution_count": null,
   "metadata": {},
   "outputs": [],
   "source": [
    "show_corr(X_t1)"
   ]
  },
  {
   "cell_type": "markdown",
   "metadata": {},
   "source": [
    "Algunas anotaciones que pueden ser relevantes para el posterior procesamiento se dejan a continuación:\n",
    "- JobStatus, CribStatus, LootMethod, InfoSource, DeviceOS son categóricas que se deben encodear.\n",
    "- DeviceScams solo posee un valor (se puede descartar).\n",
    "- RiskScore y CreditCap son las features más correlacionadas entre ellas mismas.\n",
    "- Variables categóricas: JobStatus, CribStatus, LootMethod, InfoSource, DeviceOS, CreditCap*, AliveSession, DeviceEmails8w, HustleMonth, income*, FreeMail, HomePhoneCheck, ForeignHustle, CellPhoneCheck, customer_age, ExtraPlastic.   \n",
    "- Variables discretas: BankSpots8w, RiskScore, ZipHustle, OldHoodMonths, NewCribMonths, CreditCap*, income*, BankMonths, DOBEmails4w\n",
    "- Variables continuas: DaysSinceJob, Speed24h, HustleMinutes, AliasMatch, Speed4w, intended_balcon_amount, Speed6h."
   ]
  },
  {
   "cell_type": "code",
   "execution_count": null,
   "metadata": {
    "cell_id": "65bd2b8d1716428abb456f9c15935d1e",
    "deepnote_app_block_visible": true,
    "deepnote_cell_type": "code"
   },
   "outputs": [],
   "source": [
    "#Histograma simple\n",
    "cols_discrete ='JobStatus, CribStatus, LootMethod, InfoSource, DeviceOS, AliveSession, DeviceEmails8w, HustleMonth, FreeMail, HomePhoneCheck, ForeignHustle, CellPhoneCheck, customer_age, ExtraPlastic, BankSpots8w, RiskScore, ZipHustle, OldHoodMonths, NewCribMonths, CreditCap, income, BankMonths, DOBEmails4w'.split(\", \")\n",
    "#Box + histograma \n",
    "cols_continuous = 'DaysSinceJob, Speed24h, HustleMinutes, AliasMatch, Speed4w, intended_balcon_amount, Speed6h'.split(\", \")"
   ]
  },
  {
   "cell_type": "markdown",
   "metadata": {},
   "source": [
    "Se arman gráficos para ver distribuciones (forman archivos .html, ya que el display es muy pesado y ralentiza el notebook):"
   ]
  },
  {
   "cell_type": "code",
   "execution_count": null,
   "metadata": {},
   "outputs": [],
   "source": [
    "#discrete_graph(cols_discrete)\n",
    "#cont_graph(cols_continuous)"
   ]
  },
  {
   "cell_type": "markdown",
   "metadata": {},
   "source": [
    "De los gráficos anteriores se saca la siguiente información:\n",
    "..............."
   ]
  },
  {
   "cell_type": "markdown",
   "metadata": {
    "cell_id": "010a891ca1e848488bad8a6d807d5b4b",
    "deepnote_app_block_visible": true,
    "deepnote_cell_type": "markdown"
   },
   "source": [
    "### 2.2 Pre-Procesamiento de datos [0.25 puntos]\n",
    "\n",
    "\n"
   ]
  },
  {
   "cell_type": "markdown",
   "metadata": {},
   "source": [
    "Con la información obtenida del EDA se plantea el siguiente preprocesamiento para las distintas variables:\n",
    "- "
   ]
  },
  {
   "cell_type": "code",
   "execution_count": null,
   "metadata": {
    "cell_id": "525a3e4f3d0c44488268ff02a5d0eebe",
    "deepnote_app_block_visible": true,
    "deepnote_cell_type": "code"
   },
   "outputs": [],
   "source": []
  },
  {
   "cell_type": "markdown",
   "metadata": {
    "cell_id": "ac076231de74495fbfae8fc6deb11d0c",
    "deepnote_app_block_visible": true,
    "deepnote_cell_type": "markdown"
   },
   "source": [
    "### 2.3 Baseline [0.25 puntos]\n",
    "\n"
   ]
  },
  {
   "cell_type": "code",
   "execution_count": null,
   "metadata": {
    "cell_id": "500ae2692625465e9289609417d0f144",
    "deepnote_app_block_visible": true,
    "deepnote_cell_type": "code",
    "deepnote_to_be_reexecuted": false,
    "execution_millis": 888,
    "execution_start": 1719200365230,
    "source_hash": null
   },
   "outputs": [],
   "source": []
  },
  {
   "cell_type": "markdown",
   "metadata": {
    "cell_id": "609732aba45c4f7a99352f4ac7c5ef83",
    "deepnote_app_block_visible": true,
    "deepnote_cell_type": "markdown"
   },
   "source": [
    "### 2.4 Modelos de ML [0.5 puntos]\n"
   ]
  },
  {
   "cell_type": "code",
   "execution_count": null,
   "metadata": {
    "cell_id": "ed51c256f23940a0a1008d82be8149a4",
    "deepnote_app_block_visible": true,
    "deepnote_cell_type": "code"
   },
   "outputs": [],
   "source": []
  },
  {
   "cell_type": "markdown",
   "metadata": {
    "cell_id": "339084ddd3484b9581290f506d868aa3",
    "deepnote_app_block_visible": true,
    "deepnote_cell_type": "markdown"
   },
   "source": [
    "### 2.5 Optimización de modelos [0.5 puntos]\n",
    "\n"
   ]
  },
  {
   "cell_type": "code",
   "execution_count": null,
   "metadata": {
    "cell_id": "765040b9898b4bf0a9b4f74203aba472",
    "deepnote_app_block_visible": true,
    "deepnote_cell_type": "code"
   },
   "outputs": [],
   "source": []
  },
  {
   "cell_type": "markdown",
   "metadata": {
    "cell_id": "ad6f3560faa94f0cad096187d0a3b18b",
    "deepnote_app_block_visible": true,
    "deepnote_cell_type": "markdown"
   },
   "source": [
    "### 2.6 Interpretabilidad [0.5 puntos]\n"
   ]
  },
  {
   "cell_type": "code",
   "execution_count": null,
   "metadata": {
    "cell_id": "efbec0262f274317b537f92ceb2de7a6",
    "deepnote_app_block_visible": true,
    "deepnote_cell_type": "code"
   },
   "outputs": [],
   "source": []
  },
  {
   "cell_type": "markdown",
   "metadata": {
    "cell_id": "9e0499ef3f60446daa527be3aa742206",
    "deepnote_app_block_visible": true,
    "deepnote_cell_type": "markdown"
   },
   "source": [
    "## 3. MLOPS [2.5 puntos]\n"
   ]
  },
  {
   "cell_type": "code",
   "execution_count": null,
   "metadata": {
    "cell_id": "927c380b5acd44d1b2bb7892648205ac",
    "deepnote_app_block_visible": true,
    "deepnote_cell_type": "code"
   },
   "outputs": [],
   "source": []
  },
  {
   "cell_type": "markdown",
   "metadata": {
    "cell_id": "d015781a75fe49fc8617663e83562186",
    "deepnote_app_block_visible": true,
    "deepnote_cell_type": "markdown"
   },
   "source": [
    "## 4. Resultados [0.5 puntos]\n"
   ]
  },
  {
   "cell_type": "code",
   "execution_count": null,
   "metadata": {
    "cell_id": "428d629e81884417a9698cb5c53801d8",
    "deepnote_app_block_visible": true,
    "deepnote_cell_type": "code"
   },
   "outputs": [],
   "source": []
  },
  {
   "cell_type": "markdown",
   "metadata": {
    "cell_id": "5b67a4094e824b748f71f10d596e409b",
    "deepnote_app_block_visible": true,
    "deepnote_cell_type": "markdown"
   },
   "source": [
    "## 5. Conclusiones y Discusión [0.25 puntos]\n",
    "\n"
   ]
  },
  {
   "cell_type": "code",
   "execution_count": null,
   "metadata": {
    "cell_id": "76f73861b9924ee0ac24786278fb9b2e",
    "deepnote_app_block_visible": true,
    "deepnote_cell_type": "code"
   },
   "outputs": [],
   "source": []
  },
  {
   "cell_type": "markdown",
   "metadata": {
    "cell_id": "3dfd5421e332458d8f63e07e3f1ac361",
    "deepnote_app_block_visible": true,
    "deepnote_cell_type": "markdown"
   },
   "source": [
    "# Anexos\n",
    "Utilizar la función `generateFiles` para generar el archivo a entregar en la competencia."
   ]
  },
  {
   "cell_type": "code",
   "execution_count": null,
   "metadata": {
    "cell_id": "6409fdf1ae124127b4f9e1a4db758c50",
    "deepnote_app_block_visible": true,
    "deepnote_cell_type": "code",
    "deepnote_to_be_reexecuted": false,
    "execution_millis": 45,
    "execution_start": 1719182600073,
    "source_hash": null
   },
   "outputs": [],
   "source": [
    "from zipfile import ZipFile\n",
    "import os\n",
    "\n",
    "def generateFiles(predict_data, clf_pipe):\n",
    "    \"\"\"Genera los archivos a subir en CodaLab\n",
    "\n",
    "    Input\n",
    "    ---------------\n",
    "    predict_data: Dataframe con los datos de entrada a predecir\n",
    "    clf_pipe: pipeline del clf\n",
    "\n",
    "    Ouput\n",
    "    ---------------\n",
    "    archivo de txt\n",
    "    \"\"\"\n",
    "    y_pred_clf = clf_pipe.predict_proba(predict_data)[:, 1]\n",
    "    \n",
    "    with open('./predictions.txt', 'w') as f:\n",
    "        for item in y_pred_clf:\n",
    "            f.write(\"%s\\n\" % item)\n",
    "\n",
    "    with ZipFile('predictions.zip', 'w') as zipObj:\n",
    "       zipObj.write('predictions.txt')\n",
    "    os.remove('predictions.txt')\n",
    "\n",
    "generateFiles(X_test, dummy_clf)"
   ]
  },
  {
   "cell_type": "code",
   "execution_count": null,
   "metadata": {
    "cell_id": "b7322930f6864917b13bc194e15a8c0e",
    "deepnote_app_block_visible": true,
    "deepnote_cell_type": "code",
    "deepnote_to_be_reexecuted": false,
    "execution_millis": 761,
    "execution_start": 1719182664892,
    "source_hash": null
   },
   "outputs": [],
   "source": [
    "generateFiles(X_test, clf_pipeline)"
   ]
  },
  {
   "cell_type": "markdown",
   "metadata": {
    "created_in_deepnote_cell": true,
    "deepnote_cell_type": "markdown"
   },
   "source": [
    "<a style='text-decoration:none;line-height:16px;display:flex;color:#5B5B62;padding:10px;justify-content:end;' href='https://deepnote.com?utm_source=created-in-deepnote-cell&projectId=dd551f41-bcb0-479a-b27b-74b6acf18d68' target=\"_blank\">\n",
    "<img alt='Created in deepnote.com' style='display:inline;max-height:16px;margin:0px;margin-right:7.5px;' src='data:image/svg+xml;base64,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' > </img>\n",
    "Created in <span style='font-weight:600;margin-left:4px;'>Deepnote</span></a>"
   ]
  }
 ],
 "metadata": {
  "deepnote_app_layout": "powerful-article",
  "deepnote_app_reactivity_enabled": true,
  "deepnote_execution_queue": [],
  "deepnote_notebook_id": "ceb94cd14e194d4a8cdb7572d9520560",
  "kernelspec": {
   "display_name": "Python 3 (ipykernel)",
   "language": "python",
   "name": "python3"
  },
  "language_info": {
   "codemirror_mode": {
    "name": "ipython",
    "version": 3
   },
   "file_extension": ".py",
   "mimetype": "text/x-python",
   "name": "python",
   "nbconvert_exporter": "python",
   "pygments_lexer": "ipython3",
   "version": "3.11.2"
  }
 },
 "nbformat": 4,
 "nbformat_minor": 4
}
